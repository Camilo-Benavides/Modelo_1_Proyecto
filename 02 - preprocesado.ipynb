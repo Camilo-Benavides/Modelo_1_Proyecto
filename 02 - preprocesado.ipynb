{
  "nbformat": 4,
  "nbformat_minor": 0,
  "metadata": {
    "colab": {
      "provenance": []
    },
    "kernelspec": {
      "name": "python3",
      "display_name": "Python 3"
    },
    "language_info": {
      "name": "python"
    }
  },
  "cells": [
    {
      "cell_type": "code",
      "metadata": {
        "id": "TOhPyJYaT83W",
        "ExecuteTime": {
          "end_time": "2025-05-24T03:50:49.457018Z",
          "start_time": "2025-05-24T03:50:49.110636Z"
        }
      },
      "source": [
        "import numpy as np\n",
        "import pandas as pd\n",
        "import os\n",
        "import random"
      ],
      "outputs": [],
      "execution_count": null
    },
    {
      "cell_type": "code",
      "source": [
        "os.environ['KAGGLE_CONFIG_DIR'] = '.'\n",
        "!kaggle competitions download -c udea-ai-4-eng-20251-pruebas-saber-pro-colombia"
      ],
      "metadata": {
        "colab": {
          "base_uri": "https://localhost:8080/"
        },
        "id": "1DtKzcOyElWJ",
        "outputId": "97d4c79b-4bf3-4edd-dcc3-e53e18e5dfc6"
      },
      "execution_count": null,
      "outputs": [
        {
          "output_type": "stream",
          "name": "stdout",
          "text": [
            "Warning: Your Kaggle API key is readable by other users on this system! To fix this, you can run 'chmod 600 ./kaggle.json'\n",
            "Downloading udea-ai-4-eng-20251-pruebas-saber-pro-colombia.zip to /content\n",
            "  0% 0.00/29.9M [00:00<?, ?B/s]\n",
            "100% 29.9M/29.9M [00:00<00:00, 797MB/s]\n"
          ]
        }
      ]
    },
    {
      "cell_type": "code",
      "source": [
        "!unzip udea-ai-4-eng-20251-pruebas-saber-pro-colombia.zip"
      ],
      "metadata": {
        "colab": {
          "base_uri": "https://localhost:8080/"
        },
        "id": "IGHRicwaFd8v",
        "outputId": "399d0db7-357a-413f-f191-bac5c8dfa105"
      },
      "execution_count": null,
      "outputs": [
        {
          "output_type": "stream",
          "name": "stdout",
          "text": [
            "Archive:  udea-ai-4-eng-20251-pruebas-saber-pro-colombia.zip\n",
            "  inflating: submission_example.csv  \n",
            "  inflating: test.csv                \n",
            "  inflating: train.csv               \n"
          ]
        }
      ]
    },
    {
      "cell_type": "code",
      "source": [
        "df_train = pd.read_csv('train.csv')\n",
        "df_test = pd.read_csv('test.csv')\n",
        "df_train.head()"
      ],
      "metadata": {
        "colab": {
          "base_uri": "https://localhost:8080/",
          "height": 342
        },
        "id": "01plDfAwD4Zz",
        "outputId": "db40e6e8-9fb9-4e94-e216-8630ef48b4e5"
      },
      "execution_count": null,
      "outputs": [
        {
          "output_type": "execute_result",
          "data": {
            "text/plain": [
              "       ID  PERIODO         ESTU_PRGM_ACADEMICO ESTU_PRGM_DEPARTAMENTO  \\\n",
              "0  904256    20212                  ENFERMERIA                 BOGOTÁ   \n",
              "1  645256    20212                     DERECHO              ATLANTICO   \n",
              "2  308367    20203       MERCADEO Y PUBLICIDAD                 BOGOTÁ   \n",
              "3  470353    20195  ADMINISTRACION DE EMPRESAS              SANTANDER   \n",
              "4  989032    20212                  PSICOLOGIA              ANTIOQUIA   \n",
              "\n",
              "             ESTU_VALORMATRICULAUNIVERSIDAD ESTU_HORASSEMANATRABAJA  \\\n",
              "0  Entre 5.5 millones y menos de 7 millones       Menos de 10 horas   \n",
              "1  Entre 2.5 millones y menos de 4 millones                       0   \n",
              "2  Entre 2.5 millones y menos de 4 millones         Más de 30 horas   \n",
              "3  Entre 4 millones y menos de 5.5 millones                       0   \n",
              "4  Entre 2.5 millones y menos de 4 millones     Entre 21 y 30 horas   \n",
              "\n",
              "  FAMI_ESTRATOVIVIENDA FAMI_TIENEINTERNET                 FAMI_EDUCACIONPADRE  \\\n",
              "0            Estrato 3                 Si    Técnica o tecnológica incompleta   \n",
              "1            Estrato 3                 No      Técnica o tecnológica completa   \n",
              "2            Estrato 3                 Si  Secundaria (Bachillerato) completa   \n",
              "3            Estrato 4                 Si                             No sabe   \n",
              "4            Estrato 3                 Si                   Primaria completa   \n",
              "\n",
              "  FAMI_TIENELAVADORA  ... ESTU_PRIVADO_LIBERTAD ESTU_PAGOMATRICULAPROPIO  \\\n",
              "0                 Si  ...                     N                       No   \n",
              "1                 Si  ...                     N                       No   \n",
              "2                 Si  ...                     N                       No   \n",
              "3                 Si  ...                     N                       No   \n",
              "4                 Si  ...                     N                       No   \n",
              "\n",
              "  FAMI_TIENECOMPUTADOR FAMI_TIENEINTERNET.1  \\\n",
              "0                   Si                   Si   \n",
              "1                   Si                   No   \n",
              "2                   No                   Si   \n",
              "3                   Si                   Si   \n",
              "4                   Si                   Si   \n",
              "\n",
              "                  FAMI_EDUCACIONMADRE RENDIMIENTO_GLOBAL coef_1  coef_2  \\\n",
              "0                           Postgrado         medio-alto  0.322   0.208   \n",
              "1    Técnica o tecnológica incompleta               bajo  0.311   0.215   \n",
              "2  Secundaria (Bachillerato) completa               bajo  0.297   0.214   \n",
              "3  Secundaria (Bachillerato) completa               alto  0.485   0.172   \n",
              "4                   Primaria completa         medio-bajo  0.316   0.232   \n",
              "\n",
              "   coef_3  coef_4  \n",
              "0   0.310   0.267  \n",
              "1   0.292   0.264  \n",
              "2   0.305   0.264  \n",
              "3   0.252   0.190  \n",
              "4   0.285   0.294  \n",
              "\n",
              "[5 rows x 21 columns]"
            ],
            "text/html": [
              "\n",
              "  <div id=\"df-c95ccd19-d2fe-4be7-b084-6dec6c2977ca\" class=\"colab-df-container\">\n",
              "    <div>\n",
              "<style scoped>\n",
              "    .dataframe tbody tr th:only-of-type {\n",
              "        vertical-align: middle;\n",
              "    }\n",
              "\n",
              "    .dataframe tbody tr th {\n",
              "        vertical-align: top;\n",
              "    }\n",
              "\n",
              "    .dataframe thead th {\n",
              "        text-align: right;\n",
              "    }\n",
              "</style>\n",
              "<table border=\"1\" class=\"dataframe\">\n",
              "  <thead>\n",
              "    <tr style=\"text-align: right;\">\n",
              "      <th></th>\n",
              "      <th>ID</th>\n",
              "      <th>PERIODO</th>\n",
              "      <th>ESTU_PRGM_ACADEMICO</th>\n",
              "      <th>ESTU_PRGM_DEPARTAMENTO</th>\n",
              "      <th>ESTU_VALORMATRICULAUNIVERSIDAD</th>\n",
              "      <th>ESTU_HORASSEMANATRABAJA</th>\n",
              "      <th>FAMI_ESTRATOVIVIENDA</th>\n",
              "      <th>FAMI_TIENEINTERNET</th>\n",
              "      <th>FAMI_EDUCACIONPADRE</th>\n",
              "      <th>FAMI_TIENELAVADORA</th>\n",
              "      <th>...</th>\n",
              "      <th>ESTU_PRIVADO_LIBERTAD</th>\n",
              "      <th>ESTU_PAGOMATRICULAPROPIO</th>\n",
              "      <th>FAMI_TIENECOMPUTADOR</th>\n",
              "      <th>FAMI_TIENEINTERNET.1</th>\n",
              "      <th>FAMI_EDUCACIONMADRE</th>\n",
              "      <th>RENDIMIENTO_GLOBAL</th>\n",
              "      <th>coef_1</th>\n",
              "      <th>coef_2</th>\n",
              "      <th>coef_3</th>\n",
              "      <th>coef_4</th>\n",
              "    </tr>\n",
              "  </thead>\n",
              "  <tbody>\n",
              "    <tr>\n",
              "      <th>0</th>\n",
              "      <td>904256</td>\n",
              "      <td>20212</td>\n",
              "      <td>ENFERMERIA</td>\n",
              "      <td>BOGOTÁ</td>\n",
              "      <td>Entre 5.5 millones y menos de 7 millones</td>\n",
              "      <td>Menos de 10 horas</td>\n",
              "      <td>Estrato 3</td>\n",
              "      <td>Si</td>\n",
              "      <td>Técnica o tecnológica incompleta</td>\n",
              "      <td>Si</td>\n",
              "      <td>...</td>\n",
              "      <td>N</td>\n",
              "      <td>No</td>\n",
              "      <td>Si</td>\n",
              "      <td>Si</td>\n",
              "      <td>Postgrado</td>\n",
              "      <td>medio-alto</td>\n",
              "      <td>0.322</td>\n",
              "      <td>0.208</td>\n",
              "      <td>0.310</td>\n",
              "      <td>0.267</td>\n",
              "    </tr>\n",
              "    <tr>\n",
              "      <th>1</th>\n",
              "      <td>645256</td>\n",
              "      <td>20212</td>\n",
              "      <td>DERECHO</td>\n",
              "      <td>ATLANTICO</td>\n",
              "      <td>Entre 2.5 millones y menos de 4 millones</td>\n",
              "      <td>0</td>\n",
              "      <td>Estrato 3</td>\n",
              "      <td>No</td>\n",
              "      <td>Técnica o tecnológica completa</td>\n",
              "      <td>Si</td>\n",
              "      <td>...</td>\n",
              "      <td>N</td>\n",
              "      <td>No</td>\n",
              "      <td>Si</td>\n",
              "      <td>No</td>\n",
              "      <td>Técnica o tecnológica incompleta</td>\n",
              "      <td>bajo</td>\n",
              "      <td>0.311</td>\n",
              "      <td>0.215</td>\n",
              "      <td>0.292</td>\n",
              "      <td>0.264</td>\n",
              "    </tr>\n",
              "    <tr>\n",
              "      <th>2</th>\n",
              "      <td>308367</td>\n",
              "      <td>20203</td>\n",
              "      <td>MERCADEO Y PUBLICIDAD</td>\n",
              "      <td>BOGOTÁ</td>\n",
              "      <td>Entre 2.5 millones y menos de 4 millones</td>\n",
              "      <td>Más de 30 horas</td>\n",
              "      <td>Estrato 3</td>\n",
              "      <td>Si</td>\n",
              "      <td>Secundaria (Bachillerato) completa</td>\n",
              "      <td>Si</td>\n",
              "      <td>...</td>\n",
              "      <td>N</td>\n",
              "      <td>No</td>\n",
              "      <td>No</td>\n",
              "      <td>Si</td>\n",
              "      <td>Secundaria (Bachillerato) completa</td>\n",
              "      <td>bajo</td>\n",
              "      <td>0.297</td>\n",
              "      <td>0.214</td>\n",
              "      <td>0.305</td>\n",
              "      <td>0.264</td>\n",
              "    </tr>\n",
              "    <tr>\n",
              "      <th>3</th>\n",
              "      <td>470353</td>\n",
              "      <td>20195</td>\n",
              "      <td>ADMINISTRACION DE EMPRESAS</td>\n",
              "      <td>SANTANDER</td>\n",
              "      <td>Entre 4 millones y menos de 5.5 millones</td>\n",
              "      <td>0</td>\n",
              "      <td>Estrato 4</td>\n",
              "      <td>Si</td>\n",
              "      <td>No sabe</td>\n",
              "      <td>Si</td>\n",
              "      <td>...</td>\n",
              "      <td>N</td>\n",
              "      <td>No</td>\n",
              "      <td>Si</td>\n",
              "      <td>Si</td>\n",
              "      <td>Secundaria (Bachillerato) completa</td>\n",
              "      <td>alto</td>\n",
              "      <td>0.485</td>\n",
              "      <td>0.172</td>\n",
              "      <td>0.252</td>\n",
              "      <td>0.190</td>\n",
              "    </tr>\n",
              "    <tr>\n",
              "      <th>4</th>\n",
              "      <td>989032</td>\n",
              "      <td>20212</td>\n",
              "      <td>PSICOLOGIA</td>\n",
              "      <td>ANTIOQUIA</td>\n",
              "      <td>Entre 2.5 millones y menos de 4 millones</td>\n",
              "      <td>Entre 21 y 30 horas</td>\n",
              "      <td>Estrato 3</td>\n",
              "      <td>Si</td>\n",
              "      <td>Primaria completa</td>\n",
              "      <td>Si</td>\n",
              "      <td>...</td>\n",
              "      <td>N</td>\n",
              "      <td>No</td>\n",
              "      <td>Si</td>\n",
              "      <td>Si</td>\n",
              "      <td>Primaria completa</td>\n",
              "      <td>medio-bajo</td>\n",
              "      <td>0.316</td>\n",
              "      <td>0.232</td>\n",
              "      <td>0.285</td>\n",
              "      <td>0.294</td>\n",
              "    </tr>\n",
              "  </tbody>\n",
              "</table>\n",
              "<p>5 rows × 21 columns</p>\n",
              "</div>\n",
              "    <div class=\"colab-df-buttons\">\n",
              "\n",
              "  <div class=\"colab-df-container\">\n",
              "    <button class=\"colab-df-convert\" onclick=\"convertToInteractive('df-c95ccd19-d2fe-4be7-b084-6dec6c2977ca')\"\n",
              "            title=\"Convert this dataframe to an interactive table.\"\n",
              "            style=\"display:none;\">\n",
              "\n",
              "  <svg xmlns=\"http://www.w3.org/2000/svg\" height=\"24px\" viewBox=\"0 -960 960 960\">\n",
              "    <path d=\"M120-120v-720h720v720H120Zm60-500h600v-160H180v160Zm220 220h160v-160H400v160Zm0 220h160v-160H400v160ZM180-400h160v-160H180v160Zm440 0h160v-160H620v160ZM180-180h160v-160H180v160Zm440 0h160v-160H620v160Z\"/>\n",
              "  </svg>\n",
              "    </button>\n",
              "\n",
              "  <style>\n",
              "    .colab-df-container {\n",
              "      display:flex;\n",
              "      gap: 12px;\n",
              "    }\n",
              "\n",
              "    .colab-df-convert {\n",
              "      background-color: #E8F0FE;\n",
              "      border: none;\n",
              "      border-radius: 50%;\n",
              "      cursor: pointer;\n",
              "      display: none;\n",
              "      fill: #1967D2;\n",
              "      height: 32px;\n",
              "      padding: 0 0 0 0;\n",
              "      width: 32px;\n",
              "    }\n",
              "\n",
              "    .colab-df-convert:hover {\n",
              "      background-color: #E2EBFA;\n",
              "      box-shadow: 0px 1px 2px rgba(60, 64, 67, 0.3), 0px 1px 3px 1px rgba(60, 64, 67, 0.15);\n",
              "      fill: #174EA6;\n",
              "    }\n",
              "\n",
              "    .colab-df-buttons div {\n",
              "      margin-bottom: 4px;\n",
              "    }\n",
              "\n",
              "    [theme=dark] .colab-df-convert {\n",
              "      background-color: #3B4455;\n",
              "      fill: #D2E3FC;\n",
              "    }\n",
              "\n",
              "    [theme=dark] .colab-df-convert:hover {\n",
              "      background-color: #434B5C;\n",
              "      box-shadow: 0px 1px 3px 1px rgba(0, 0, 0, 0.15);\n",
              "      filter: drop-shadow(0px 1px 2px rgba(0, 0, 0, 0.3));\n",
              "      fill: #FFFFFF;\n",
              "    }\n",
              "  </style>\n",
              "\n",
              "    <script>\n",
              "      const buttonEl =\n",
              "        document.querySelector('#df-c95ccd19-d2fe-4be7-b084-6dec6c2977ca button.colab-df-convert');\n",
              "      buttonEl.style.display =\n",
              "        google.colab.kernel.accessAllowed ? 'block' : 'none';\n",
              "\n",
              "      async function convertToInteractive(key) {\n",
              "        const element = document.querySelector('#df-c95ccd19-d2fe-4be7-b084-6dec6c2977ca');\n",
              "        const dataTable =\n",
              "          await google.colab.kernel.invokeFunction('convertToInteractive',\n",
              "                                                    [key], {});\n",
              "        if (!dataTable) return;\n",
              "\n",
              "        const docLinkHtml = 'Like what you see? Visit the ' +\n",
              "          '<a target=\"_blank\" href=https://colab.research.google.com/notebooks/data_table.ipynb>data table notebook</a>'\n",
              "          + ' to learn more about interactive tables.';\n",
              "        element.innerHTML = '';\n",
              "        dataTable['output_type'] = 'display_data';\n",
              "        await google.colab.output.renderOutput(dataTable, element);\n",
              "        const docLink = document.createElement('div');\n",
              "        docLink.innerHTML = docLinkHtml;\n",
              "        element.appendChild(docLink);\n",
              "      }\n",
              "    </script>\n",
              "  </div>\n",
              "\n",
              "\n",
              "    <div id=\"df-06262544-677d-49aa-8b29-009267c94ec7\">\n",
              "      <button class=\"colab-df-quickchart\" onclick=\"quickchart('df-06262544-677d-49aa-8b29-009267c94ec7')\"\n",
              "                title=\"Suggest charts\"\n",
              "                style=\"display:none;\">\n",
              "\n",
              "<svg xmlns=\"http://www.w3.org/2000/svg\" height=\"24px\"viewBox=\"0 0 24 24\"\n",
              "     width=\"24px\">\n",
              "    <g>\n",
              "        <path d=\"M19 3H5c-1.1 0-2 .9-2 2v14c0 1.1.9 2 2 2h14c1.1 0 2-.9 2-2V5c0-1.1-.9-2-2-2zM9 17H7v-7h2v7zm4 0h-2V7h2v10zm4 0h-2v-4h2v4z\"/>\n",
              "    </g>\n",
              "</svg>\n",
              "      </button>\n",
              "\n",
              "<style>\n",
              "  .colab-df-quickchart {\n",
              "      --bg-color: #E8F0FE;\n",
              "      --fill-color: #1967D2;\n",
              "      --hover-bg-color: #E2EBFA;\n",
              "      --hover-fill-color: #174EA6;\n",
              "      --disabled-fill-color: #AAA;\n",
              "      --disabled-bg-color: #DDD;\n",
              "  }\n",
              "\n",
              "  [theme=dark] .colab-df-quickchart {\n",
              "      --bg-color: #3B4455;\n",
              "      --fill-color: #D2E3FC;\n",
              "      --hover-bg-color: #434B5C;\n",
              "      --hover-fill-color: #FFFFFF;\n",
              "      --disabled-bg-color: #3B4455;\n",
              "      --disabled-fill-color: #666;\n",
              "  }\n",
              "\n",
              "  .colab-df-quickchart {\n",
              "    background-color: var(--bg-color);\n",
              "    border: none;\n",
              "    border-radius: 50%;\n",
              "    cursor: pointer;\n",
              "    display: none;\n",
              "    fill: var(--fill-color);\n",
              "    height: 32px;\n",
              "    padding: 0;\n",
              "    width: 32px;\n",
              "  }\n",
              "\n",
              "  .colab-df-quickchart:hover {\n",
              "    background-color: var(--hover-bg-color);\n",
              "    box-shadow: 0 1px 2px rgba(60, 64, 67, 0.3), 0 1px 3px 1px rgba(60, 64, 67, 0.15);\n",
              "    fill: var(--button-hover-fill-color);\n",
              "  }\n",
              "\n",
              "  .colab-df-quickchart-complete:disabled,\n",
              "  .colab-df-quickchart-complete:disabled:hover {\n",
              "    background-color: var(--disabled-bg-color);\n",
              "    fill: var(--disabled-fill-color);\n",
              "    box-shadow: none;\n",
              "  }\n",
              "\n",
              "  .colab-df-spinner {\n",
              "    border: 2px solid var(--fill-color);\n",
              "    border-color: transparent;\n",
              "    border-bottom-color: var(--fill-color);\n",
              "    animation:\n",
              "      spin 1s steps(1) infinite;\n",
              "  }\n",
              "\n",
              "  @keyframes spin {\n",
              "    0% {\n",
              "      border-color: transparent;\n",
              "      border-bottom-color: var(--fill-color);\n",
              "      border-left-color: var(--fill-color);\n",
              "    }\n",
              "    20% {\n",
              "      border-color: transparent;\n",
              "      border-left-color: var(--fill-color);\n",
              "      border-top-color: var(--fill-color);\n",
              "    }\n",
              "    30% {\n",
              "      border-color: transparent;\n",
              "      border-left-color: var(--fill-color);\n",
              "      border-top-color: var(--fill-color);\n",
              "      border-right-color: var(--fill-color);\n",
              "    }\n",
              "    40% {\n",
              "      border-color: transparent;\n",
              "      border-right-color: var(--fill-color);\n",
              "      border-top-color: var(--fill-color);\n",
              "    }\n",
              "    60% {\n",
              "      border-color: transparent;\n",
              "      border-right-color: var(--fill-color);\n",
              "    }\n",
              "    80% {\n",
              "      border-color: transparent;\n",
              "      border-right-color: var(--fill-color);\n",
              "      border-bottom-color: var(--fill-color);\n",
              "    }\n",
              "    90% {\n",
              "      border-color: transparent;\n",
              "      border-bottom-color: var(--fill-color);\n",
              "    }\n",
              "  }\n",
              "</style>\n",
              "\n",
              "      <script>\n",
              "        async function quickchart(key) {\n",
              "          const quickchartButtonEl =\n",
              "            document.querySelector('#' + key + ' button');\n",
              "          quickchartButtonEl.disabled = true;  // To prevent multiple clicks.\n",
              "          quickchartButtonEl.classList.add('colab-df-spinner');\n",
              "          try {\n",
              "            const charts = await google.colab.kernel.invokeFunction(\n",
              "                'suggestCharts', [key], {});\n",
              "          } catch (error) {\n",
              "            console.error('Error during call to suggestCharts:', error);\n",
              "          }\n",
              "          quickchartButtonEl.classList.remove('colab-df-spinner');\n",
              "          quickchartButtonEl.classList.add('colab-df-quickchart-complete');\n",
              "        }\n",
              "        (() => {\n",
              "          let quickchartButtonEl =\n",
              "            document.querySelector('#df-06262544-677d-49aa-8b29-009267c94ec7 button');\n",
              "          quickchartButtonEl.style.display =\n",
              "            google.colab.kernel.accessAllowed ? 'block' : 'none';\n",
              "        })();\n",
              "      </script>\n",
              "    </div>\n",
              "\n",
              "    </div>\n",
              "  </div>\n"
            ],
            "application/vnd.google.colaboratory.intrinsic+json": {
              "type": "dataframe",
              "variable_name": "df_train"
            }
          },
          "metadata": {},
          "execution_count": 4
        }
      ]
    },
    {
      "cell_type": "code",
      "source": [
        "df_train.columns"
      ],
      "metadata": {
        "colab": {
          "base_uri": "https://localhost:8080/"
        },
        "id": "NyrH4HXCEN9j",
        "outputId": "f9df1657-a48a-4e99-bf70-7b24b26f08e0"
      },
      "execution_count": null,
      "outputs": [
        {
          "output_type": "execute_result",
          "data": {
            "text/plain": [
              "Index(['ID', 'PERIODO', 'ESTU_PRGM_ACADEMICO', 'ESTU_PRGM_DEPARTAMENTO',\n",
              "       'ESTU_VALORMATRICULAUNIVERSIDAD', 'ESTU_HORASSEMANATRABAJA',\n",
              "       'FAMI_ESTRATOVIVIENDA', 'FAMI_TIENEINTERNET', 'FAMI_EDUCACIONPADRE',\n",
              "       'FAMI_TIENELAVADORA', 'FAMI_TIENEAUTOMOVIL', 'ESTU_PRIVADO_LIBERTAD',\n",
              "       'ESTU_PAGOMATRICULAPROPIO', 'FAMI_TIENECOMPUTADOR',\n",
              "       'FAMI_TIENEINTERNET.1', 'FAMI_EDUCACIONMADRE', 'RENDIMIENTO_GLOBAL',\n",
              "       'coef_1', 'coef_2', 'coef_3', 'coef_4'],\n",
              "      dtype='object')"
            ]
          },
          "metadata": {},
          "execution_count": 5
        }
      ]
    },
    {
      "cell_type": "code",
      "source": [
        "!pip install unidecode"
      ],
      "metadata": {
        "colab": {
          "base_uri": "https://localhost:8080/"
        },
        "id": "dP1P_cFCc_Wt",
        "outputId": "f2d3da3f-754d-4d68-bfc6-5f2f0ec3ba46"
      },
      "execution_count": null,
      "outputs": [
        {
          "output_type": "stream",
          "name": "stdout",
          "text": [
            "Collecting unidecode\n",
            "  Downloading Unidecode-1.4.0-py3-none-any.whl.metadata (13 kB)\n",
            "Downloading Unidecode-1.4.0-py3-none-any.whl (235 kB)\n",
            "\u001b[?25l   \u001b[90m━━━━━━━━━━━━━━━━━━━━━━━━━━━━━━━━━━━━━━━━\u001b[0m \u001b[32m0.0/235.8 kB\u001b[0m \u001b[31m?\u001b[0m eta \u001b[36m-:--:--\u001b[0m\r\u001b[2K   \u001b[90m━━━━━━━━━━━━━━━━━━━━━━━━━━━━━━━━━━━━━━━━\u001b[0m \u001b[32m235.8/235.8 kB\u001b[0m \u001b[31m7.7 MB/s\u001b[0m eta \u001b[36m0:00:00\u001b[0m\n",
            "\u001b[?25hInstalling collected packages: unidecode\n",
            "Successfully installed unidecode-1.4.0\n"
          ]
        }
      ]
    },
    {
      "cell_type": "code",
      "source": [
        "import unidecode\n",
        "def estu_program_normalizado(df):\n",
        "\n",
        "  if pd.isna(row):\n",
        "    return row\n",
        "  row = row.upper().strip()\n",
        "  row = unidecode.unidecode(row)\n",
        "  row = ' '.join(row.split())\n",
        "  return row\n",
        "\n",
        "  df['ESTU_PRGM_ACADEMICO'] = df['ESTU_PRGM_ACADEMICO'].apply(estu_program_normalizado)\n"
      ],
      "metadata": {
        "id": "LXt76Bx5bCOe"
      },
      "execution_count": null,
      "outputs": []
    },
    {
      "cell_type": "code",
      "source": [
        "df_train['ESTU_PRGM_ACADEMICO'].unique()"
      ],
      "metadata": {
        "colab": {
          "base_uri": "https://localhost:8080/"
        },
        "id": "2qgMBLADdjkP",
        "outputId": "bd88bc4f-6e15-450a-b53b-53000d243577"
      },
      "execution_count": null,
      "outputs": [
        {
          "output_type": "execute_result",
          "data": {
            "text/plain": [
              "array(['ENFERMERIA', 'DERECHO', 'MERCADEO Y PUBLICIDAD',\n",
              "       'ADMINISTRACION DE EMPRESAS', 'PSICOLOGIA', 'MEDICINA VETERINARIA',\n",
              "       'INGENIERIA MECANICA', 'ADMINISTRACION EN SALUD OCUPACIONAL',\n",
              "       'INGENIERIA INDUSTRIAL', 'ADMINISTRACION FINANCIERA',\n",
              "       'HOTELERIA Y TURISMO', 'LICENCIATURA EN CIENCIAS SOCIALES',\n",
              "       'LICENCIATURA EN PEDAGOGIA INFANTIL', 'COMUNICACION SOCIAL',\n",
              "       'CIENCIA POLITICA',\n",
              "       'PROFESIONAL EN GESTION DE LA SEGURIDAD Y LA SALUD LABORAL',\n",
              "       'MAESTRO EN MUSICA', 'INGENIERIA MECATRONICA', 'TRABAJO SOCIAL',\n",
              "       'LICENCIATURA EN BIOLOGIA Y EDUCACION AMBIENTAL',\n",
              "       'INGENIERIA CIVIL', 'CONTADURIA PUBLICA',\n",
              "       'ADMINISTRACION EN SALUD', 'ESTADISTICA',\n",
              "       'LICENCIATURA EN BIOLOGIA', 'INGENIERIA AGROINDUSTRIAL',\n",
              "       'ZOOTECNIA', 'COMUNICACION AUDIOVISUAL',\n",
              "       'LICENCIATURA EN EDUCACION BASICA CON ENFASIS EN HUMANIDADES-INGLES',\n",
              "       'COMUNICACION SOCIAL - PERIODISMO',\n",
              "       'SEGURIDAD Y SALUD EN EL TRABAJO', 'MEDICINA',\n",
              "       'ADMINISTRACION DE LA SEGURIDAD SOCIAL', 'ODONTOLOGIA',\n",
              "       'DISENO INDUSTRIAL', 'ECONOMIA',\n",
              "       'INGENIERIA DE PROCESOS INDUSTRIALES', 'INGENIERIA DE SISTEMAS',\n",
              "       'ARQUITECTURA', 'LICENCIATURA EN FILOSOFIA',\n",
              "       'ADMINISTRACION AMBIENTAL', 'INGENIERIA ELECTRONICA',\n",
              "       'INGENIERIA BIOMEDICA', 'ADMINISTRACION Y DIRECCION DE EMPRESAS',\n",
              "       'LICENCIATURA EN EDUCACION BASICA CON ENFASIS EN CIENCIAS NATURALES Y EDUCACION AMBIENTAL',\n",
              "       'LICENCIATURA EN EDUCACION FISICA, RECREACION Y DEPORTE',\n",
              "       'LICENCIATURA EN INGLES', 'INGENIERIA AMBIENTAL',\n",
              "       'NEGOCIOS INTERNACIONALES', 'LICENCIATURA EN LENGUAS EXTRANJERAS',\n",
              "       'MEDICINA VETERINARIA Y ZOOTECNIA', 'DISENO GRAFICO',\n",
              "       'QUIMICA FARMACEUTICA',\n",
              "       'LICENCIATURA EN BILINGUISMO CON ENFASIS EN INGLES',\n",
              "       'ADMINISTRACION EN SEGURIDAD Y SALUD EN EL TRABAJO',\n",
              "       'FINANZAS Y COMERCIO INTERNACIONAL',\n",
              "       'LICENCIATURA EN EDUCACION PREESCOLAR',\n",
              "       'LICENCIATURA EN PSICOLOGIA Y PEDAGOGIA',\n",
              "       'LICENCIATURA EN EDUCACION BASICA CON ENFASIS EN HUMANIDADES E IDIOMAS',\n",
              "       'INGENIERIA DE CONTROL', 'RELACIONES INTERNACIONALES',\n",
              "       'INGENIERIA DE TELECOMUNICACIONES', 'INSTRUMENTACION QUIRURGICA',\n",
              "       'PROFESIONAL EN FINANZAS Y NEGOCIOS INTERNACIONALES',\n",
              "       'DISENO VISUAL',\n",
              "       'LICENCIATURA EN LENGUA CASTELLANA,INGLES Y FRANCES',\n",
              "       'FISIOTERAPIA', 'FARMACIA', 'LICENCIATURA EN IDIOMAS EXTRANJEROS',\n",
              "       'COMUNICACION Y LENGUAJES AUDIOVISUALES',\n",
              "       'INGENIERIA DE DISENO DE PRODUCTO', 'ARTE DANZARIO',\n",
              "       'COMUNICACION SOCIAL-PERIODISMO',\n",
              "       'FINANZAS Y NEGOCIOS INTERNACIONALES', 'INGENIERIA QUIMICA',\n",
              "       'ADMINISTRACION DEL MEDIO AMBIENTE', 'OPTOMETRIA',\n",
              "       'COMUNICACION SOCIAL- PERIODISMO', 'INGENIERIA FINANCIERA',\n",
              "       'JURISPRUDENCIA', 'INGENIERIA DE ALIMENTOS',\n",
              "       'LICENCIATURA EN MATEMATICAS', 'SOCIOLOGIA',\n",
              "       'INGENIERIA DE SISTEMAS Y COMPUTACION', 'PROFESIONAL EN DEPORTE',\n",
              "       'ESTUDIOS LITERARIOS', 'INGENIERIA AGRONOMICA',\n",
              "       'LICENCIATURA EN LENGUAS MODERNAS CON ENFASIS EN INGLES Y FRANCES',\n",
              "       'ADMINISTRACION DE EMPRESAS TURISTICAS',\n",
              "       'PROFESIONAL EN CINE Y TELEVISION', 'NUTRICION Y DIETETICA',\n",
              "       'TERAPIA RESPIRATORIA', 'FILOSOFIA', 'INGENIERIA DE PRODUCCION',\n",
              "       'INGENIERIA EN TELECOMUNICACIONES',\n",
              "       'ADMINISTRACION DE NEGOCIOS INTERNACIONALES',\n",
              "       'INGENIERIA MULTIMEDIA', 'PROFESIONAL EN DISENO GRAFICO',\n",
              "       'LICENCIATURA EN FILOSOFIA Y EDUCACION RELIGIOSA',\n",
              "       'LICENCIATURA EN BIOLOGIA Y QUIMICA', 'INGENIERIA ELECTRICA',\n",
              "       'INGENIERIA ELECTRONICA Y TELECOMUNICACIONES',\n",
              "       'LICENCIATURA EN TEOLOGIA', 'INGENIERIA AGROPECUARIA',\n",
              "       'LICENCIATURA EN EDUCACION BASICA CON ENFASIS EN EDUCACION FISICA, RECREACION Y DEPORTES',\n",
              "       'TERAPIA OCUPACIONAL', 'NEGOCIOS INTERNACIONALES SEGUNDO CICLO',\n",
              "       'ADMINISTRACION AMBIENTAL Y DE LOS RECURSOS NATURALES',\n",
              "       'INGENIERIA ADMINISTRATIVA', 'ADMINISTRACION DE LA CALIDAD',\n",
              "       'ADMINISTRACION MARITIMA Y FLUVIAL', 'INGENIERIA AGROFORESTAL',\n",
              "       'NEGOCIOS Y RELACIONES INTERNACIONALES', 'FILOLOGIA E IDIOMAS',\n",
              "       'GERENCIA EN SISTEMAS DE INFORMACION EN SALUD',\n",
              "       'LICENCIATURA EN ETNOEDUCACION',\n",
              "       'LICENCIATURA EN LENGUA CASTELLANA E INGLES',\n",
              "       'TRADUCCION INGLES-FRANCES-ESPANOL',\n",
              "       'GESTION EN ECOLOGIA Y TURISMO', 'INGENIERIA DE MATERIALES',\n",
              "       'LICENCIATURA EN EDUCACION ARTISTICA', 'INTRUMENTACION QUIRURGICA',\n",
              "       'PLANEACION Y DESARROLLO SOCIAL', 'LICENCIATURA EN ARTES',\n",
              "       'INGENIERIA EN MULTIMEDIA', 'PROFESIONAL EN CRIMINALISTICA',\n",
              "       'LICENCIATURA EN EDUCACION PARA LA PRIMERA INFANCIA',\n",
              "       'ENTRENAMIENTO DEPORTIVO',\n",
              "       'LICENCIATURA EN EDUCACION BASICA CON ENFASIS EN MATEMATICAS',\n",
              "       'LICENCIATURA EN CIENCIAS NATURALES Y EDUCACION AMBIENTAL',\n",
              "       'INGENIERIA DE PETROLEOS',\n",
              "       'CIENCIAS DEL DEPORTE Y DE LA EDUCACION FISICA', 'BIOLOGIA',\n",
              "       'LICENCIATURA EN EDUCACION FISICA, DEPORTES Y RECREACION',\n",
              "       'INGENIERIA ELECTROMECANICA',\n",
              "       'LICENCIATURA EN CIENCIAS DEL DEPORTE',\n",
              "       'COMUNICACION SOCIAL Y PERIODISMO',\n",
              "       'MERCADEO Y NEGOCIOS INTERNACIONALES',\n",
              "       'ADMINISTRACION PUBLICA TERRITORIAL',\n",
              "       'ADMINISTRACION INTEGRAL DE RIESGOS DE SEGURIDAD Y SALUD EN EL TRABAJO',\n",
              "       'ADMINISTRACION & SERVICIO',\n",
              "       'LICENCIATURA EN LENGUA CASTELLANA Y COMUNICACION',\n",
              "       'CIENCIAS DE LA INFORMACION Y LA DOCUMENTACION',\n",
              "       'LICENCIATURA EN EDUCACION BASICA CON ENFASIS EN INGLES',\n",
              "       'CIENCIAS MILITARES',\n",
              "       'LICENCIATURA EN EDUCACION FISICA Y DEPORTES',\n",
              "       'INGENIERIA DE SOFTWARE',\n",
              "       'CIENCIAS NAVALES PARA OFICIALES DE INFANTERIA DE MARINA',\n",
              "       'INGENIERIA DE SONIDO',\n",
              "       'LICENCIATURA EN ETNOEDUCACION CON ENFASIS EN CIENCIAS SOCIALES',\n",
              "       'INGENIERIA EN HIGIENE Y SEGURIDAD OCUPACIONAL',\n",
              "       'ADMINISTRACION DE LA SEGURIDAD Y SALUD OCUPACIONAL',\n",
              "       'ECONOMIA Y FINANZAS INTERNACIONALES', 'BACTERIOLOGIA',\n",
              "       'CIENCIA POLITICA Y GOBIERNO',\n",
              "       'COMUNICACION AUDIOVISUAL Y MULTIMEDIOS', 'MERCADEO',\n",
              "       'LICENCIATURA EN EDUCACION BASICA CON ENFASIS EN LENGUA CASTELLANA',\n",
              "       'ECONOMIA Y NEGOCIOS INTERNACIONALES',\n",
              "       'PROFESIONAL EN LENGUAS MODERNAS',\n",
              "       'INGENIERIA SANITARIA Y AMBIENTAL',\n",
              "       'LICENCIATURA EN EDUCACION INFANTIL', 'PERIODISMO',\n",
              "       'PROFESIONAL EN CONTADURIA PUBLICA',\n",
              "       'LICENCIATURA EN EDUCACION BASICA PRIMARIA',\n",
              "       'LINGUISTICA Y LITERATURA',\n",
              "       'LICENCIATURA EN EDUCACION BASICA CON ENFASIS EN MATEMATICA HUMANIDADES Y LENGUA CASTELLANA',\n",
              "       'PROFESIONAL EN ADMINISTRACION DE EMPRESAS', 'ANTROPOLOGIA',\n",
              "       'AGRONOMIA', 'ADMINISTRACION DE NEGOCIOS',\n",
              "       'BACTERIOLOGIA Y LABORATORIO CLINICO', 'FONOAUDIOLOGIA',\n",
              "       'ADMINISTRACION Y GESTION AMBIENTAL',\n",
              "       'LICENCIATURA EN ESPANOL Y LITERATURA',\n",
              "       'PROFESIONAL EN AGRONEGOCIOS', 'LINGUISTICA',\n",
              "       'INGENIERIA DE PRODUCTIVIDAD Y CALIDAD',\n",
              "       'LICENCIATURA EN LENGUAS MODERNAS',\n",
              "       'LICENCIATURA EN EDUCACION BASICA CON ENFASIS EN EDUCACION FISICA,RECREACION Y DEPORTES',\n",
              "       'INGENIERIA AMBIENTAL Y SANITARIA', 'ADMINISTRACION PUBLICA',\n",
              "       'RELACIONES ECONOMICAS INTERNACIONALES',\n",
              "       'ADMINISTRACION DE EMPRESAS COMERCIALES',\n",
              "       'LICENCIATURA EN EDUCACION BASICA CON ENFASIS EN EDUCACION ARTISTICA',\n",
              "       'LENGUAS MODERNAS', 'INGENIERIA EN TOPOGRAFIA',\n",
              "       'CIENCIAS BIBLICAS',\n",
              "       'LICENCIATURA EN ESPANOL Y LENGUAS EXTRANJERAS',\n",
              "       'INGENIER?A EN SOFTWARE', 'DISENO Y PRODUCCION DE MODA',\n",
              "       'INGENIERIA DE MERCADOS',\n",
              "       'LICENCIATURA EN EDUCACION BASICA CON ENFASIS EN LENGUAS EXTRANJERAS',\n",
              "       'ARTES PLASTICAS', 'ADMINISTRACION BANCARIA Y FINANCIERA',\n",
              "       'LICENCIATURA EN EDUCACION BASICA CON ENFASIS EN HUMANIDADES: LENGUA CASTELLANA E INGLES',\n",
              "       'ADMINISTRACION DE SISTEMAS INFORMATICOS', 'INGENIERIA PESQUERA',\n",
              "       'DISENO DE MODAS',\n",
              "       'LICENCIATURA EN COMUNICACION E INFORMATICA EDUCATIVA',\n",
              "       'LICENCIATURA EN EDUCACION FISICA', 'GEOLOGIA',\n",
              "       'ADMINISTRACION TURISTICA Y HOTELERA',\n",
              "       'LICENCIATURA EN EDUCACION CON ENFASIS EN EDUCACION ESPECIAL',\n",
              "       'QUIMICA', 'PROFESIONAL EN ACTIVIDAD FISICA Y DEPORTE', 'HISTORIA',\n",
              "       'MICROBIOLOGIA Y BIOANALISIS', 'ADMINISTRACION TECNOLOGICA',\n",
              "       'ADMINISTRACION DE MERCADEO',\n",
              "       'LICENCIATURA EN LENGUAS MODERNAS INGLES-FRANCES',\n",
              "       'SALUD OCUPACIONAL', 'ECOLOGIA DE ZONAS COSTERAS',\n",
              "       'PROFESIONAL EN TRABAJO SOCIAL',\n",
              "       'INGENIERIA AMBIENTAL Y DE SANEAMIENTO',\n",
              "       'LICENCIATURA EN CIENCIAS NATURALES',\n",
              "       'LICENCIATURA EN EDUCACION BASICA CON ENFASIS EN HUMANIDADES Y LENGUA CASTELLANA',\n",
              "       'CONSTRUCCION',\n",
              "       'ADMINISTRACION DE EMPRESAS TURISTICAS Y HOTELERAS',\n",
              "       'LICENCIATURA EN INGLES-ESPANOL', 'ADMINISTRACION INDUSTRIAL',\n",
              "       'LICENCIATURA EN ARTES ESCENICAS CON ENFASIS EN TEATRO',\n",
              "       'TEOLOGIA', 'COMERCIO Y NEGOCIOS INTERNACIONALES', 'PUBLICIDAD',\n",
              "       'INGENIERIA EN AUTOMATIZACION', 'INGENIERIA FISICA',\n",
              "       'LICENCIATURA EN EDUCACION BASICA CON ENFASIS EN CIENCIAS SOCIALES',\n",
              "       'LICENCIATURA EN EDUCACION FISICA RECREACION Y DEPORTE',\n",
              "       'LICENCIATURA EN PEDAGOGIA SOCIAL PARA LA REHABILITACION',\n",
              "       'PROFESIONAL EN ENTRENAMIENTO DEPORTIVO',\n",
              "       'CONSTRUCCION Y GESTION EN ARQUITECTURA',\n",
              "       'INGENIERIA EN DISENO INDUSTRIAL', 'INGENIERIA FORESTAL',\n",
              "       'FINANZAS Y COMERCIO EXTERIOR', 'ADMINISTRACION',\n",
              "       'COMERCIO EXTERIOR', 'NEGOCIOS Y FINANZAS INTERNACIONALES',\n",
              "       'LICENCIATURA EN LENGUA EXTRANJERA INGLES',\n",
              "       'LICENCIATURA EN EDUCACION BASICA ENFASIS EN EDUCACION FISICA, RECREACION Y DEPORTE',\n",
              "       'ARTES PLASTICAS Y VISUALES', 'INGENIERIA GEOLOGICA',\n",
              "       'INGENIERIA EN SEGURIDAD INDUSTRIAL E HIGIENE OCUPACIONAL',\n",
              "       'COMERCIO INTERNACIONAL Y FINANZAS',\n",
              "       'INGENIERIA GEOGRAFICA Y AMBIENTAL',\n",
              "       'FINANZAS Y RELACIONES INTERNACIONALES',\n",
              "       'ADMINISTRACION COMERCIAL Y DE MERCADEO',\n",
              "       'LICENCIATURA EN EDUCACION BASICA CON ENFASIS EN HUMANIDADES - LENGUA CASTELLANA',\n",
              "       'LETRAS - FILOLOGIA HISPANICA',\n",
              "       'LICENCIATURA EN MATEMATICAS Y ESTADISTICA', 'CINE',\n",
              "       'INGENIERIA INFORMATICA', 'INGENIERIA DE MINAS Y METALURGIA',\n",
              "       'ADMINISTRACION POLICIAL', 'ADMINISTRACION DE SERVICIOS DE SALUD',\n",
              "       'PROFESIONAL EN MARKETING Y NEGOCIOS INTERNACIONALES',\n",
              "       'LICENCIATURA EN ARTES PLASTICAS', 'ADMINISTRACION DEPORTIVA',\n",
              "       'ADMINISTRACION EN FINANZAS Y NEGOCIOS INTERNACIONALES',\n",
              "       'INGENIERIA AGROECOLOGICA',\n",
              "       'LICENCIATURA EN EDUCACION FISICA,RECREACION Y DEPORTES',\n",
              "       'ADMINISTRACION COMERCIAL',\n",
              "       'LICENCIATURA EN INFORMATICA Y MEDIOS AUDIOVISUALES',\n",
              "       'DERECHO Y CIENCIAS POLITICAS', 'INGENIERIA DE TRANSPORTE Y VIAS',\n",
              "       'DEPORTE Y ACTIVIDAD FISICA', 'CULINARIA Y GASTRONOMIA',\n",
              "       'INGENIERIA DE SISTEMAS E INFORMATICA',\n",
              "       'LICENCIATURA PEDAGOGIA INFANTIL',\n",
              "       'PROFESIONAL EN MERCADEO Y PUBLICIDAD', 'BIOINGENIERIA',\n",
              "       'LICENCIATURA EN IDIOMAS MODERNOS ESPANOL- INGLES',\n",
              "       'COMUNICACION SOCIALY PERIODISMO', 'ARQUEOLOGIA',\n",
              "       'ADMINISTRACION HUMANA', 'CRIMINALISTICA', 'DISENO',\n",
              "       'GESTION EMPRESARIAL', 'DANZA',\n",
              "       'LICENCIATURA EN LENGUA CASTELLANA Y LITERATURA',\n",
              "       'LICENCIATURA EN ARTES ESCENICAS',\n",
              "       'LICENCIATURA EN EDUCACION BASICA CON ENFASIS EN EDUCACION FISICA,RECREACION Y DEPORTE',\n",
              "       'LICENCIATURA EN ARTES VISUALES', 'ARCHIVISTICA',\n",
              "       'CIENCIAS POLITICAS', 'DEPORTE',\n",
              "       'ADMINISTRACION DE EMPRESAS Y GESTION AMBIENTAL',\n",
              "       'LICENCIATURA EN PREESCOLAR',\n",
              "       'INGENIERIA DE SISTEMAS Y TELECOMUNICACIONES',\n",
              "       'CULTURA FISICA, DEPORTE Y RECREACION',\n",
              "       'INGENIERIA EN INFORMATICA', 'HISTORIA Y ARCHIVISTICA',\n",
              "       'LICENCIATURA EN INFORMATICA', 'GESTION Y DESARROLLO URBANOS',\n",
              "       'LICENCIATURA EN CULTURA, FISICA, RECREACION Y DEPORTES',\n",
              "       'CONSTRUCCIONES CIVILES', 'GASTRONOMIA', 'MATEMATICAS',\n",
              "       'COMUNICACION GRAFICA PUBLICITARIA', 'LICENCIATURA EN FISICA',\n",
              "       'INGENIERIA EN HIGIENE Y SEGURIDAD INDUSTRIAL',\n",
              "       'COMUNICACION Y ENTRETENIMIENTO DIGITAL', 'INGENIERIA EN SOFTWARE',\n",
              "       'LICENCIATURA EN LENGUAS EXTRANJERAS: INGLES-FRANCES',\n",
              "       'LICENCIATURA EN MATEMATICAS Y FISICA',\n",
              "       'LICENCIATURA EN DISENO TECNOLOGICO CON ENFASIS EN SISTEMAS MECANICOS',\n",
              "       'PROGRAMA PROFESIONAL UNIVERSITARIO EN LENGUAS EXTRANJERAS',\n",
              "       'ADMINISTRACI?N LOG?STICA',\n",
              "       'SISTEMAS DE INFORMACION Y DOCUMENTACION',\n",
              "       'DISENO DE LA COMUNICACION GRAFICA', 'FILOSOFIA Y LETRAS',\n",
              "       'LICENCIATURA EN LENGUAS EXTRANJERAS INGLES-FRANCES',\n",
              "       'DISENO VISUAL DIGITAL', 'INGENIERIA DE MINAS',\n",
              "       'CULTURA FISICA Y DEPORTE',\n",
              "       'LICENCIATURA EN EDUCACION ARTISTICA CON ENFASIS EN DANZA Y TEATRO',\n",
              "       'LICENCIATURA EN LENGUAS EXTRANJERAS CON ENFASIS EN INGLES',\n",
              "       'INGENIERIA AERONAUTICA', 'INGENIERIA EN ENERGIA',\n",
              "       'INGENIERIA AGRICOLA', 'ESPANOL Y FILOLOGIA CLASICA',\n",
              "       'ARTES VISUALES',\n",
              "       'ADMINISTRACION EN SALUD: ENFASIS EN GESTION DE SERVICIOS DE SALUD Y ENFASIS EN GESTION SANITARIA Y AMBIENTAL',\n",
              "       'LICENCIATURA EN EDUCACI?N ART?STICA',\n",
              "       'LICENCIATURA EN EDUCACION BASICA CON ENFASIS EN HUMANIDADES- LENGUA CASTELLANA',\n",
              "       'FORMACION MUSICAL',\n",
              "       'LICENCIATURA EN EDUCACION BASICA CON ENFASIS EN HUMANIDADES, LENGUA CASTELLANA',\n",
              "       'LICENCIATURA EN EDUCACION BASICA, CON ENFASIS EN HUMANIDADES, LENGUA CASTELLANA',\n",
              "       'DIRECCION Y PRODUCCION DE MEDIOS AUDIOVISUALES',\n",
              "       'PROFESIONAL EN NEGOCIOS INTERNACIONALES',\n",
              "       'DISENO DIGITAL Y MULTIMEDIA',\n",
              "       'GEOGRAFIA APLICADA A LA ORGANIZACION DEL ESPACIO Y PLANIFICACION REGIONAL',\n",
              "       'INGENIERIA EN MECATRONICA',\n",
              "       'INGENIERIA EN DISENO DE ENTRETENIMIENTO DIGITAL', 'FISICA',\n",
              "       'INGENIERIA EN TELEMATICA', 'LICENCIATURA EN MUSICA',\n",
              "       'INGENIERIA FINANCIERA Y DE NEGOCIOS', 'MICROBIOLOGIA',\n",
              "       'PROFESIONAL EN PSICOLOGIA', 'DISENO DE COMUNICACION VISUAL',\n",
              "       'ADMINISTRACION AGROPECUARIA', 'ADMINISTRACION LOGISTICA',\n",
              "       'LICENCIATURA EN LENGUA CASTELLANA', 'INGENIERIA DE LA CALIDAD',\n",
              "       'COMERCIO INTERNACIONAL',\n",
              "       'LICENCIATURA EN EDUCACION FISICA, RECREACION Y DEPORTES',\n",
              "       'LICENCIATURA EN HUMANIDADES Y LENGUA CASTELLANA',\n",
              "       'ADMINISTRACION AERONAUTICA', 'TURISMO',\n",
              "       'CIENCIAS MILITARES AERONAUTICAS', 'CIENCIAS DEL DEPORTE',\n",
              "       'LICENCIATURA EN PEDAGOG?A INFANTIL',\n",
              "       'MERCADEO NACIONAL E INTERNACIONAL', 'QUIMICA INDUSTRIAL',\n",
              "       'RELACIONES INTERNACIONALES Y ESTUDIOS POLITICOS',\n",
              "       'LICENCIATURA EN EDUCACION ESPECIAL',\n",
              "       'LICENCIATURA EN EDUCACION POPULAR',\n",
              "       'PROFESIONAL EN DISENO INDUSTRIAL', 'COMUNICACION Y PERIODISMO',\n",
              "       'BIBLIOTECOLOGIA', 'ADMINISTRACION DE COMERCIO EXTERIOR',\n",
              "       '3deg CICLO PROFESIONAL NEGOCIOS INTERNACIONALES',\n",
              "       'LICENCIATURA EN CIENCIAS RELIGIOSAS',\n",
              "       'LICENCIATURA EN HUMANIDADES, LENGUA CASTELLANA E INGLES',\n",
              "       'ADMINISTRACION DE EMPRESAS AGROPECUARIAS',\n",
              "       'PRODUCCION AGROINDUSTRIAL', 'DISENO DE MEDIOS INTERACTIVOS',\n",
              "       'CIENCIA DE LA INFORMACION Y BIBLIOTECOLOGIA',\n",
              "       'LICENCIATURA EN PEDAGOGIA DE LA PRIMERA INFANCIA',\n",
              "       'LICENCIATURA EN EDUCACION AMBIENTAL',\n",
              "       'INGENIERIA EN SEGURIDAD Y SALUD PARA EL TRABAJO',\n",
              "       'LICENCIATURA EN EDUCACION RELIGIOSA', 'CONTADURIA PUBLICA.',\n",
              "       'INGENIERIA BIOQUIMICA',\n",
              "       'LICENCIATURA EN EDUCACION BASICA CON ENFASIS EN INFORMATICA',\n",
              "       'LICENCIATURA EN EDUCACION BASICA CON ENFASIS EN HUMANIDADES, ESPANOL Y LENGUAS EXTRANJERAS',\n",
              "       'LICENCIATURA EN TECNOLOGIA E INFORMATICA', 'ARTES ESCENICAS',\n",
              "       'ESTUDIOS MUSICALES', 'INGENIERIA DE PROCESOS',\n",
              "       'MATEMATICA APLICADA',\n",
              "       'LICENCIATURA EN BIOLOGIA CON ENFASIS EN EDUCACION AMBIENTAL',\n",
              "       'DISE??O DE COMUNICACI??N GR??FICA',\n",
              "       'LICENCIATURA EN FILOSOFIA Y LENGUA CASTELLANA', 'MUSICA',\n",
              "       'ADMINISTRACION DE INSTITUCIONES DE SERVICIO',\n",
              "       'PUBLICIDAD Y MERCADEO', 'ARTES DE LA ESCENA', 'DISENO INTERIOR',\n",
              "       'CONSTRUCCION EN ARQUITECTURA E INGENIERIA',\n",
              "       'CINE Y COMUNICACION DIGITAL',\n",
              "       'LICENCIATURA EN EDUCACION FISICA,RECREACION Y DEPORTE',\n",
              "       'HISTORIA Y PATRIMONIO', 'LITERATURA',\n",
              "       'LICENCIATURA EN EDUCACION BASICA CON ENFASIS EN HUMANIDADES,LENGUA CASTELLANA E INGLES',\n",
              "       'GEOGRAFIA', 'BIOLOGIA APLICADA',\n",
              "       'GERENCIA DE LA SEGURIDAD Y ANALISIS SOCIO POLITICO',\n",
              "       'LICENCIATURA EN INGLES COMO LENGUA EXTRANJERA',\n",
              "       'LICENCIATURA EN EDUCACION ARTISTICA Y ARTES ESCENICAS',\n",
              "       'INGENIERIA METALURGICA', 'CINE Y TELEVISION',\n",
              "       'INGENIERIA SANITARIA', 'LICENCIATURA EN INGLES - ESPANOL',\n",
              "       'INGENIERIA EN CONTROL', 'COMUNICACION AUDIOVISUAL Y MULTIMEDIAL',\n",
              "       'FINANZAS', 'ARTES DE LA GRABACION Y PRODUCCION MUSICAL',\n",
              "       'LICENCIATURA EN LINGUISTICA Y LITERATURA',\n",
              "       'LICENCIATURA EN EDUCACION ARTISTICA Y CULTURAL',\n",
              "       'INGENIERIA DE LAS ARTES DIGITALES',\n",
              "       'PROFESIONAL UNIVERSITARIO EN FOTOGRAFIA PARA MEDIOS',\n",
              "       'COMUNICACION PUBLICITARIA',\n",
              "       'CIENCIAS DE LA COMPUTACION E INTELIGENCIA ARTIFICIAL', 'ECOLOGIA',\n",
              "       'ADMINISTRACION DE LA SALUD OCUPACIONAL',\n",
              "       'LICENCIATURA EN INGLES Y BILINGUISMO',\n",
              "       'GOBIERNO Y RELACIONES INTERNACIONALES',\n",
              "       'DIRECCION Y PRODUCCION DE CINE Y TELEVISION',\n",
              "       'ADMINISTRACION EN MERCADEO Y LOGISTICA INTERNACIONALES',\n",
              "       'MICROBIOLOGIA INDUSTRIAL Y AMBIENTAL', 'GEOCIENCIAS',\n",
              "       'ARTES MUSICALES', 'GEOLOG?A', 'INGENIERIA BIOTECNOLOGICA',\n",
              "       'CIENCIAS NAUTICAS PARA OFICIALES MERCANTES',\n",
              "       'INGENIERIA MECATRONICA - CICLO PROFESIONAL UNIVERSITARIO',\n",
              "       'CONTADURIA PUBLICA Y FINANZAS INTERNACIONALES',\n",
              "       'INGENIERIA COMERCIAL', 'CIENCIAS NAVALES PARA OFICIALES NAVALES',\n",
              "       'ADMINISTRACION Y FINANZAS', 'INVESTIGACION CRIMINAL',\n",
              "       'HOTELERIA Y TURISMO ECOLOGICO', 'INGENIERIA TOPOGRAFICA',\n",
              "       'PROFESIONAL EN DISENO DE INTERIORES',\n",
              "       'LICENCIATURA EN EDUCACION BASICA CON ENFASIS EN LENGUA CASTELLANA E INGLES',\n",
              "       'FOTOGRAFIA Y COMUNICACION VISUAL', 'ARTE DRAMATICO',\n",
              "       'ADMINISTRACION TURISTICA', 'MARKETING Y NEGOCIOS INTERNACIONALES',\n",
              "       'LICENCIATURA EN ETNOEDUCACION Y DESARROLLO COMUNITARIO',\n",
              "       'LICENCIATURA EN EDUCACION INDUSTRIAL',\n",
              "       'LICENCIATURA EN ARTE Y FOLKLORE Y CULTURA',\n",
              "       'ARTES CULINARIAS Y GASTRONOMIA', 'MARKETING Y LOGISTICA',\n",
              "       'INGENIERIA CATASTRAL Y GEODESIA',\n",
              "       'DIRECCION Y PRODUCCION DE RADIO Y TELEVISION',\n",
              "       'LICENCIATURA EN INFORMATICA EDUCATIVA', 'MUSICA INSTRUMENTAL',\n",
              "       'MERCADEO PUBLICIDAD Y VENTAS', 'DISENO DE ESPACIOS',\n",
              "       'DISENO DE ESPACIOS - ESCENARIO', 'CONTADURIA',\n",
              "       'ADMINISTRACION EN LOGISTICA Y PRODUCCION',\n",
              "       'INGENIERIA MECATRONICO',\n",
              "       'CIENCIA DE LA INFORMACION - BIBLIOTECOLOGIA', 'MERCADOLOGIA',\n",
              "       'LICENCIATURA EN DEPORTE', 'LOGISTICA EMPRESARIAL',\n",
              "       'LICENCIATURA EN LENGUAS EXTRANJERAS INGLES - FRANCES',\n",
              "       'PROFESIONAL EN BANCA Y FINANZAS', 'DISENO DE VESTUARIO',\n",
              "       'PROFESIONAL EN MEDIOS AUDIOVISUALES',\n",
              "       'ADMINISTRACION COMERCIAL Y FINANCIERA',\n",
              "       'PUBLICIDAD Y MARKETING CREATIVO', 'LICENCIATURA EN QUIMICA',\n",
              "       'GESTION CULTURAL Y COMUNICATIVA',\n",
              "       'INGENIERIA EN INSTRUMENTACION Y CONTROL',\n",
              "       'GASTRONOMIA Y COCINA PROFESIONAL',\n",
              "       'CIENCIA POLITICA Y RELACIONES INTERNACIONALES',\n",
              "       'DESARROLLO FAMILIAR', 'LENGUAS Y CULTURA',\n",
              "       'ADMINISTRACION DE EMPRESAS - CICLO PROFESIONAL',\n",
              "       'LICENCIATURA EN LITERATURA', 'CONTADURIA INTERNACIONAL',\n",
              "       'LICENCIATURA EN EDUCACION BASICA CON ENFASIS EN TECNOLOGIA E INFORMATICA',\n",
              "       'CIENCIAS DEL DEPORTE Y LA RECREACION',\n",
              "       'LICENCIATURA EN EDUCACION BILINGUE',\n",
              "       'ADMINISTRACION DE LA SEGURIDAD Y SALUD EN EL TRABAJO',\n",
              "       'ADMINISTRACI?N DE EMPRESAS', 'LICENCIATURA EN HISTORIA',\n",
              "       'LICENCIATURA EN CIENCIAS DEL DEPORTE Y LA EDUCACION FISICA',\n",
              "       'COMUNICACION VISUAL',\n",
              "       'LICENCIATURA EN EDUCACION BASICA ENFASIS EN CIENCIAS NATURALES Y EDUCACION AMBIENTAL',\n",
              "       'POLITICA Y RELACIONES INTERNACIONALES', 'INGENIER?A DE SISTEMAS',\n",
              "       'COMUNICACION Y RELACIONES CORPORATIVAS',\n",
              "       'INGENIERIA DE SISTEMAS CON ENFASIS EN TELECOMUNICACIONES',\n",
              "       'TERAPIA CARDIORRESPIRATORIA', 'DERECHO Y CIENCIAS SOCIALES',\n",
              "       'ADMINISTRACION DE AGRONEGOCIOS',\n",
              "       'LICENCIATURA EN EDUCACION BASICA, ENFASIS EN CIENCIAS NATURALES Y EDUCACION AMBIENTAL',\n",
              "       'LICENCIATURA EN EDUCACION BASICA EN CIENCIAS NATURALES Y EDUCACION AMBIENTAL',\n",
              "       'PUBLICIDAD INTERNACIONAL',\n",
              "       'LICENCIATURA EN LITERATURA Y LENGUA CASTELLANA', 'BIOTECNOLOGIA',\n",
              "       'QUIMICA.', 'LICENCIATURA EN FILOSOFIA E HISTORIA',\n",
              "       'LICENCIATURA EN ELECTRONICA',\n",
              "       'LICENCIATURA EN EDUCACION BASICA CON ENFASIS EN HUMANIDADES: ESPANOL E INGLES',\n",
              "       'DEPORTE Y CULTURA FISICA', 'PROFESIONAL EN MERCADEO',\n",
              "       'LICENCIATURA EN LENGUA INGLESA',\n",
              "       'LICENCIATURA EN EDUCACION BILINGUE CON ENFASIS EN LA ENSENANZA DEL INGLES',\n",
              "       'LICENCIATURA EN EDUCACION BASICA CON ENFASIS EN HUMANIDADES LENGUA CASTELLANA',\n",
              "       'LICENCIATURA EN ARTE DRAMATICO',\n",
              "       'LICENCIATURA EN EDUCACION CON ENFASIS EN INGLES',\n",
              "       'MATEMATICAS CON ENFASIS EN ESTADISTICA', 'ARTES AUDIOVISUALES',\n",
              "       'ADMINSITRACION DE EMPRESAS',\n",
              "       'ADMINISTRACION DE HOTELERIA Y TURISMO',\n",
              "       'ADMINISTRACION DE EMPRESAS Y FINANZAS',\n",
              "       'GOBIERNO Y ASUNTOS PUBLICOS',\n",
              "       'LICENCIATURA EN PRODUCCION AGROPECUARIA',\n",
              "       'INGENIERIA EN PROCESOS AGROINDUSTRIALES',\n",
              "       'INSTRUMENTACION QUIRURGICA PROFESIONAL',\n",
              "       'INGENIERIA DE TELECOMUNICACIONES E INFORMATICA',\n",
              "       'ESTUDIOS EN FILOSOFIA',\n",
              "       'LICENCIATURA EN CIENCIAS SOCIALES Y DESARROLLO LOCAL',\n",
              "       'INGENIERIA NAVAL', 'PERIODISMO Y OPINION PUBLICA',\n",
              "       'LICENCIATURA EN RECREACION', 'AGRONOMIA DEL TROPICO HUMEDO',\n",
              "       'INGENIERIA BIOLOGICA',\n",
              "       'LICENCIATURA EN CIENCIAS SOCIALES CON ENFASIS EN EDUCACION BASICA',\n",
              "       'ACTIVIDAD FISICA Y DEPORTE',\n",
              "       'LICENCIATURA EN MATEMATICAS Y TECNOLOGIAS DE LA INFORMACION',\n",
              "       'ARTE', 'BANCA Y FINANZAS', 'INGENIERIA PECUARIA',\n",
              "       'LICENCIATURA EN EDUCACION FISICA Y DEPORTE',\n",
              "       'LICENCIATURA EN FILOSOFIA, PENSAMIENTO POLITICO Y ECONOMICO',\n",
              "       'ADMINISTRACION DE EMPRESAS EN TELECOMUNICACIONES',\n",
              "       'BIOLOGIA MARINA', 'LICENCIATURA EN EDUCACI?N B?SICA PRIMARIA',\n",
              "       'LICENCIATURA EN IDIOMA EXTRANJERO - INGLES',\n",
              "       'FILOSOFIA Y HUMANIDADES',\n",
              "       'PROFESIONAL EN GASTRONOMIA Y ALTA COCINA',\n",
              "       'ADMINISTRACION Y NEGOCIOS INTERNACIONALES',\n",
              "       'PROFESIONAL SEGURIDAD Y SALUD EN EL TRABAJO',\n",
              "       'LICENCIATURA EN EDUCACION BASICA CON ENFASIS EN EDUCACION ARTISTICA-MUSICA',\n",
              "       'CINE Y AUDIOVISUALES', 'COMUNICACION SOCIAL PERIODISMO',\n",
              "       'INGENIIERIA DE SOFTWARE', 'PROFESIONAL EN MERCADEO EMPRESARIAL',\n",
              "       'INGENIERIA EN ENERGIAS', 'OCEANOGRAFIA FISICA',\n",
              "       'PROFESIONAL EN GASTRONOM?A', 'FILOLOGIA HISPANICA',\n",
              "       'PROFESIONAL EN GASTRONOMIA Y CULINARIA',\n",
              "       'ADMINISTRACION DE GESTISN HUMANA',\n",
              "       'ADMINISTRACION FINANCIERA Y DE SISTEMAS',\n",
              "       'MERCADEO AGROINDUSTRIAL', 'REALIZACION EN ANIMACION',\n",
              "       'LICENCIATURA EN EDUCACION: ARTES PLASTICAS',\n",
              "       'PROFESIONAL EN GASTRONOMIA',\n",
              "       'INGENIERIA DE SOFTWARE Y COMUNICACIONES',\n",
              "       'PROFESIONAL EN GESTION DEL DISENO',\n",
              "       'ADMINISTRACION DEL TURISMO SOSTENIBLE',\n",
              "       'LICENCIATURA EN INGLES Y FRANCES', 'ADMINISTRACION INFORMATICA',\n",
              "       'BIOLOGIA AMBIENTAL',\n",
              "       'LICENCIATURA EN EDUCACION BASICA CON ENFASIS EN HUMANIDADES, LENGUA CASTELLANA E INGLES',\n",
              "       'ADMINISTRACION DEL COMERCIO INTERNACIONAL',\n",
              "       'INGENIERIA EN DISENO DE MAQUINAS Y PRODUCTOS INDUSTRIALES',\n",
              "       'LICENCIATURA EN FILOSOFIA Y LETRAS',\n",
              "       'LICENCIATURA EN EDUCACION PARA LA CONVIVENCIA Y EL DESARROLLO HUMANO',\n",
              "       'MUSICA INSTRUMENTO', 'ECONOM?A',\n",
              "       'LICENCIATURA EN ESPANOL E INGLES',\n",
              "       'COMUNICACI?N SOCIAL Y PERIODISMO',\n",
              "       'LICENCIATURA EN BILINGUISMO CON ENFASIS EN LA ENSENANZA DEL INGLES',\n",
              "       'ADMINISTRACION MARITIMA Y PORTUARIA',\n",
              "       'INGENIERIA DE SISTEMAS DE INFORMACION', 'DESARROLLO TERRITORIAL',\n",
              "       'LICENCIATURA EN PSICOPEDAGOGIA CON ENFASIS EN ASESORIA EDUCATIVA',\n",
              "       'LICENCIATURA EN TEATRO',\n",
              "       'LICENCIATURA EN EDUCACION BILINGUE-ESPANOL-INGLES',\n",
              "       'GEOGRAFIA DEL DESARROLLO REGIONAL Y AMBIENTAL',\n",
              "       'DISENO DE ESPACIOS Y ESCENARIOS',\n",
              "       'MERCADEO INTERNACIONAL Y PUBLICIDAD',\n",
              "       'LICENCIATURA EN EDUCACION BASICA EN DANZA',\n",
              "       'CIENCIAS DEL DEPORTE Y LA ACTIVIDAD FISICA', 'CONTADURIA P?BLICA',\n",
              "       'PROFESIONAL EN DISENO VISUAL',\n",
              "       'ADMINISTRACION DE EMPRESAS AGROINDUSTRIALES', 'ACUICULTURA',\n",
              "       'LICENCIATURA EN EDUCACION COMUNITARIA CON ENFASIS EN DERECHOS HUMANOS',\n",
              "       'LICENCIATURA EN EDUCACI?N CON ?NFASIS EN CIENCIAS SOCIALES Y AMBIENTALES',\n",
              "       'LOGISTICA Y MERCADEO ORGANIZACIONAL',\n",
              "       'INGENIERIA EN PRODUCCION ACUICOLA', 'ASTRONOMIA',\n",
              "       'DISENO INTERACTIVO', 'LICENCIATURA EN DANZA CLASICA',\n",
              "       'LICENCIATURA EN MATEMATICAS E INFORMATICA', 'DISENO CROSSMEDIA',\n",
              "       'LICENCIATURA M?SICA',\n",
              "       'CONTADURIA PUBLICA ENFASIS EN SISTEMAS Y ECONOMIA SOLIDARIA',\n",
              "       'LICENCIATURA EN BILINGUISMO CON ENFASIS EN ESPANOL E INGLES',\n",
              "       'GESTI?N DEPORTIVA', 'ADMINISTRACION EMPRESAS AGROINDUSTRIALES',\n",
              "       'LICENCIATURA EN LENGUAS EXTRANJERAS CON ?NFASIS EN INGL?S',\n",
              "       'DISENO DE MODA',\n",
              "       'INGENIERIA EN TECNOLOGIAS DE LA INFORMACION Y LAS COMUNICACIONES',\n",
              "       'LICENCIATURA EN MUSICA Y DANZA',\n",
              "       'CIENCIA POLITICA, GOBIERNO Y RELACIONES INTERNACIONALES',\n",
              "       'PUBLICIDAD Y MARKETING DIGITAL',\n",
              "       'DISENO Y GESTION DE LA MODA Y EL TEXTIL', 'CREACION LITERARIA',\n",
              "       'COMUNICACION', 'PROFESIONAL EN DISENO DE ALTA COSTURA',\n",
              "       'LICENCIATURA EN EDUCACION FISICA DEPORTES Y RECREACION',\n",
              "       'ESTUDIOS Y GESTION CULTURAL',\n",
              "       'LICENCIATURA EN ARTES PLASTICAS Y VISUALES', 'GERONTOLOGIA',\n",
              "       'INGENIERIA TELEMATICA',\n",
              "       'PROFESIONAL UNIVERSITARIO DISENO GRAFICO DIGITAL',\n",
              "       'LICENCIATURA EN EDUCACION BASICA CON ENFASIS EN HUMANIDADES,LENGUA CASTELLANA',\n",
              "       'INGENIERIA EN PROCESOS INDUSTRIALES',\n",
              "       'CONSERVACION Y RESTAURACION DE BIENES MUEBLES',\n",
              "       'LICENCIATURA EN EDUCACION BASICA CON ENFASIS EN HUMANIDADES Y LENGUAS',\n",
              "       'INGENIERIA DE PETROLEO Y GAS',\n",
              "       'ADMINISTRACION HOTELERA Y DE SERVICIOS',\n",
              "       'LICENCIATURA EN LENGUAS MODERNAS, INGLES Y FRANCES',\n",
              "       'PROFESIONAL EN AGROINDUSTRIA',\n",
              "       'MATEMATICAS APLICADAS Y CIENCIAS DE LA COMPUTACION',\n",
              "       'COMUNICACIONES', 'DISENO Y GESTION DE LA MODA',\n",
              "       'LICENCIATURA EN EDUCACION BASICA CON ENFASIS EN EDUCACION ARTISTICA Y CULTURAL: MUSICA',\n",
              "       'RECREACION', 'LICENCIATURA EN FILOSOFIA Y CIENCIAS RELIGIOSAS',\n",
              "       'MICROBIOLOGIA INDUSTRIAL', 'INGENIERIA DE MANTENIMIENTO',\n",
              "       'LICENCIATURA EN LENGUAS MODERNAS CON ENFASIS EN INGLES',\n",
              "       'PSICOLOGA', 'DISE?O Y ADMINISTRACI?N DE NEGOCIOS DE LA MODA',\n",
              "       'MUSICA- CANTO', 'LICENCIATURA EN EDUCACI?N INFANTIL',\n",
              "       'CIENCIAS AMBIENTALES', 'COMUNICACI?N SOCIAL', 'MARKETING',\n",
              "       'ESTUDIOS DE ARTES LIBERALES EN CIENCIAS SOCIALES', 'BIOQUIMICA',\n",
              "       'ADMINSITRACION TURISTICA Y HOTELERA',\n",
              "       'ADMINISTRACION DE EMPRESAS TURISTICA',\n",
              "       'COMUNICACION SOCIAL Y MEDIOS DIGITALES',\n",
              "       'PROFESIONAL EN COMUNICACION SOCIAL - PERIODISMO',\n",
              "       'QUIMICA AMBIENTAL',\n",
              "       'COMUNICACION CORPORATIVA Y RELACIONES PUBLICAS',\n",
              "       'TERAPIAS PSICOSOCIALES', 'COMUNICACION ORGANIZACIONAL',\n",
              "       'ADMINISTRACI?N P?BLICA', 'QU?MICA FARMAC?UTICA',\n",
              "       'PROFESIONAL EN TURISMO Y GASTRONOMIA', 'INGENIERIA DE PLASTICOS',\n",
              "       'FOTOGRAFIA', 'INTERPRETACION MUSICAL',\n",
              "       'ARTES PLASTICAS CON ENFASIS EN PROCESOS BIDIMENSIONALES Y TRIDIMENSIONALES',\n",
              "       'HISTORIA DEL ARTE', 'DANZA Y DIRECCION COREOGRAFICA',\n",
              "       'ADMINISTRACION MARITIMA', 'INGENIERIA TEXTIL', 'URBANISMO',\n",
              "       'DISENO DE COMUNICACION', 'DISENO Y GESTION DEL PRODUCTO',\n",
              "       'COMUNICACION AUDIOVISUAL Y DIGITAL', 'INGENIER?A EL?CTRICA',\n",
              "       'INGENIERIA EN AUTOMATICA INDUSTRIAL',\n",
              "       'LICENCIATURA EN EDUCACION PREESCOLAR CON ENFASIS EN INGLES',\n",
              "       'PROFESIONAL EN MARKETING INTERNACIONAL',\n",
              "       'PROFESIONAL EN FILOSOFIA', 'LENGUAJES Y ESTUDIOS SOCIOCULTURALES',\n",
              "       'NARRATIVAS DIGITALES',\n",
              "       'LICENCIATURA EN PEDAGOGIA DE LA MADRE TIERRA',\n",
              "       'LICENCIATURA EN EDUCACION BASICA CON ENFASIS EN MATEMATICAS E INFORMATICA',\n",
              "       'LICENCIATURA EN EDUCACION RELIGIOSA CON ENFASIS EN BIBLIA',\n",
              "       'INGENIERIA DE PRODUCCION AGROINDUSTRIAL',\n",
              "       'INGENIERIA EN LOGISTICA Y OPERACIONES',\n",
              "       'INGENIERIA DE SISTEMAS INFORMATICOS',\n",
              "       'PROFESIONAL EN DIRECCION Y PRODUCCION DE RADIO Y TELEVISION',\n",
              "       'INGENIERIA EN NANOTECNOLOGIA',\n",
              "       'PROFESIONAL EN DISENO DE ESPACIOS', 'COMUNICACI?N VISUAL',\n",
              "       'LICENCIATURA EN FILOSOFIA Y HUMANIDADES', 'INGENIERIA MATEMATICA',\n",
              "       'ADMINISTRACION DE MERCADEO Y LOGISTICA INTERNACIONALES',\n",
              "       'PEDAGOGIA', 'INGENIERIA EN CONTROL Y AUTOMATIZACION',\n",
              "       'LICENCIATURA EN EDUCACION BASICA CON ENFASIS EN HUMANIDADES: LENGUA CASTELLANA E IDIOMA EXTRANJERO: INGLES',\n",
              "       'ADMINISTRACION DE OBRAS DE ARQUITECTURA',\n",
              "       'ADMINISTRACION EN SERVICIOS DE SALUD',\n",
              "       'PROFESIONAL EN CIENCIAS DEL DEPORTE Y LA EDUCACION FISICA',\n",
              "       'LICENCIATURA EN FILOSOFIA, ETICA Y VALORES HUMANOS',\n",
              "       'LICENCIATURA LENGUAS EXTRANJERAS CON ENFASIS EN INGLES',\n",
              "       'ESTUDIOS POLITICOS Y RESOLUCION DE CONFLICTOS',\n",
              "       'INGENIERIA PETROQUIMICA',\n",
              "       'LICENCIATURA EN EDUCACION BILINGUE- ESPANOL E INGLES',\n",
              "       'MERCADEO Y VENTAS', 'ADMINISTRACION DE SISTEMAS',\n",
              "       'COMUNICACION CORPORATIVA', 'INGENIERIA URBANA',\n",
              "       'INGENIER?A INDUSTRIAL', 'DISE?O CROSSMEDIA',\n",
              "       'ESTUDIOS LITERARIOS Y EDICION', 'DISENO Y GESTION DE ESPACIOS',\n",
              "       'INGENIERIA OCEANOGRAFICA', 'DIRECCION DE BANDA', 'TEATRO MUSICAL',\n",
              "       'SISTEMAS DE INFORMACION, BIBLIOTECOLOGIA Y ARCHIVISTICA',\n",
              "       'LICENCIATURA EN EDUCACION BASICA CON ENFASIS EN EDUCACION ARTISTICA Y CULTURAL',\n",
              "       'DISENO Y REALIZACION DE MEDIOS DIGITALES', 'ANIMACION',\n",
              "       'PROFESIONAL EN DISENO DE VESTUARIO',\n",
              "       'COMUNICACION VISUAL Y MULTIMEDIA',\n",
              "       'INGENIERIA EN CONTROL Y AUTOMATIZACION INDUSTRIAL',\n",
              "       'CIENCIAS DE LA COMPUTACION',\n",
              "       'LICENCIATURA EN FILOSOF?A Y HUMANIDADES',\n",
              "       'LICENCIATURA EN CIENCIAS NATURALES: FISICA QUIMICA Y BIOLOGIA',\n",
              "       'MATEMATICAS APLICADAS', 'ADMINISTRACION AGROINDUSTRIAL',\n",
              "       'LICENCIATURA EN HUMANIDADES', 'OCEANOGRAFIA',\n",
              "       'COMERCIO Y FINANZAS INTERNACIONALES',\n",
              "       'LICENCIATURA EN ARTE Y FOLKLORE',\n",
              "       'FORMACION PROFESIONAL EN DEPORTE',\n",
              "       'LICENCIATURA EN ESPANOL Y FILOLOGIA',\n",
              "       'ADMINISTRACION EN NEGOCIOS INTERNACIONALES',\n",
              "       'PROFESIONAL EN ARTES GASTRONOMICAS', 'COMPUTACION CIENTIFICA',\n",
              "       'PROFESIONAL EN DISENO DE MODAS',\n",
              "       'LICENCIATURA EN PEDAGOGIA REEDUCATIVA',\n",
              "       'PROFESIONAL EN PUBLICIDAD Y MERCADEO',\n",
              "       'INGENIERIA EN AUTOMATIZACION INDUSTRIAL',\n",
              "       'DEPORTE Y ACTIVIDADA FISICA', 'LICENCIATURA EN EDUCACION INICIAL',\n",
              "       'LICENCIATURA EN MATEM?TICAS', 'LENGUAS MODERNAS Y CULTURA',\n",
              "       'LICENCIATURA EN EDUCACION BASICA CON ENFASIS EN EDUCACION FISICA, DEPORTES Y RECREACION',\n",
              "       'BELLAS ARTES',\n",
              "       'LICENCIATURA EN EDUCACI?N F?SICA RECREACI?N Y DEPORTES',\n",
              "       'LICENCIATURA EN QUIMICA Y EDUCACION AMBIENTAL',\n",
              "       'BANCA Y FINANZAS INTERNACIONALES',\n",
              "       'LICENCIATURA EN EDUCACION BASICA ENFASIS EN CIENCIAS SOCIALES',\n",
              "       'DISENO GRAFICO Y MULTIMEDIAL',\n",
              "       'LICENCIATURA EN EDUCACION ENFASIS EN INFORMATICA',\n",
              "       'LICENCIATURA EN EDUCACION BASICA CON ENFASIS EN EL AREA DE TECNOLOGIA E INFORMATICA',\n",
              "       'LICENCIATURA EN EDUCACION BASICA PRIMARIA CON ENFASIS EN INGLES Y EN FRANCES',\n",
              "       'LICENCIATURA EN ARTES ESC?NICAS', 'GESTION CULTURAL',\n",
              "       'INGENIERIA EN SEGURIDAD Y SALUD EN EL TRABAJO',\n",
              "       'GESTION DE SISTEMAS DE INFORMACION',\n",
              "       'DISENO DE MODAS Y ALTA COSTURA',\n",
              "       'LICENCIATURA EN EDUCACION ENFASIS EN CIENCIAS SOCIALES',\n",
              "       'LICENCIATURA EN EDUCACION FISICA, DEPORTE Y RECREACION ENFASIS RURAL',\n",
              "       'LICENCIATURA EN EDUCACION BASICA PRIMARIA:ENFASIS EN CIENCIAS SOCIALES',\n",
              "       'LICENCIATURA EN CIENCIAS DE LA EDUCACION',\n",
              "       'ADMINISTRACION DE EMPRESAS TURISTICAS POR CICLOS - CICLO PROFESIONAL',\n",
              "       'PROFESIONAL UNIVERSITARIO EN DISENO TEXTIL PARA LA INDUSTRIA',\n",
              "       'QUIMICA Y FARMACIA',\n",
              "       'LICENCIATURA EN EDUCACON FISICA, RECREACION Y DEPORTES',\n",
              "       'PROFESIONAL EN INVESTIGACION CRIMINAL'], dtype=object)"
            ]
          },
          "metadata": {},
          "execution_count": 25
        }
      ]
    },
    {
      "cell_type": "code",
      "source": [
        "p = df_train.isna().sum()\n",
        "p[p!=0]"
      ],
      "metadata": {
        "colab": {
          "base_uri": "https://localhost:8080/",
          "height": 429
        },
        "id": "WDSDKuGLF5oZ",
        "outputId": "e7597ef5-85d1-433e-9e55-e669f3273e91"
      },
      "execution_count": null,
      "outputs": [
        {
          "output_type": "execute_result",
          "data": {
            "text/plain": [
              "ESTU_VALORMATRICULAUNIVERSIDAD     6287\n",
              "ESTU_HORASSEMANATRABAJA           30857\n",
              "FAMI_ESTRATOVIVIENDA              32137\n",
              "FAMI_TIENEINTERNET                26629\n",
              "FAMI_EDUCACIONPADRE               23178\n",
              "FAMI_TIENELAVADORA                39773\n",
              "FAMI_TIENEAUTOMOVIL               43623\n",
              "ESTU_PAGOMATRICULAPROPIO           6498\n",
              "FAMI_TIENECOMPUTADOR              38103\n",
              "FAMI_TIENEINTERNET.1              26629\n",
              "FAMI_EDUCACIONMADRE               23664\n",
              "dtype: int64"
            ],
            "text/html": [
              "<div>\n",
              "<style scoped>\n",
              "    .dataframe tbody tr th:only-of-type {\n",
              "        vertical-align: middle;\n",
              "    }\n",
              "\n",
              "    .dataframe tbody tr th {\n",
              "        vertical-align: top;\n",
              "    }\n",
              "\n",
              "    .dataframe thead th {\n",
              "        text-align: right;\n",
              "    }\n",
              "</style>\n",
              "<table border=\"1\" class=\"dataframe\">\n",
              "  <thead>\n",
              "    <tr style=\"text-align: right;\">\n",
              "      <th></th>\n",
              "      <th>0</th>\n",
              "    </tr>\n",
              "  </thead>\n",
              "  <tbody>\n",
              "    <tr>\n",
              "      <th>ESTU_VALORMATRICULAUNIVERSIDAD</th>\n",
              "      <td>6287</td>\n",
              "    </tr>\n",
              "    <tr>\n",
              "      <th>ESTU_HORASSEMANATRABAJA</th>\n",
              "      <td>30857</td>\n",
              "    </tr>\n",
              "    <tr>\n",
              "      <th>FAMI_ESTRATOVIVIENDA</th>\n",
              "      <td>32137</td>\n",
              "    </tr>\n",
              "    <tr>\n",
              "      <th>FAMI_TIENEINTERNET</th>\n",
              "      <td>26629</td>\n",
              "    </tr>\n",
              "    <tr>\n",
              "      <th>FAMI_EDUCACIONPADRE</th>\n",
              "      <td>23178</td>\n",
              "    </tr>\n",
              "    <tr>\n",
              "      <th>FAMI_TIENELAVADORA</th>\n",
              "      <td>39773</td>\n",
              "    </tr>\n",
              "    <tr>\n",
              "      <th>FAMI_TIENEAUTOMOVIL</th>\n",
              "      <td>43623</td>\n",
              "    </tr>\n",
              "    <tr>\n",
              "      <th>ESTU_PAGOMATRICULAPROPIO</th>\n",
              "      <td>6498</td>\n",
              "    </tr>\n",
              "    <tr>\n",
              "      <th>FAMI_TIENECOMPUTADOR</th>\n",
              "      <td>38103</td>\n",
              "    </tr>\n",
              "    <tr>\n",
              "      <th>FAMI_TIENEINTERNET.1</th>\n",
              "      <td>26629</td>\n",
              "    </tr>\n",
              "    <tr>\n",
              "      <th>FAMI_EDUCACIONMADRE</th>\n",
              "      <td>23664</td>\n",
              "    </tr>\n",
              "  </tbody>\n",
              "</table>\n",
              "</div><br><label><b>dtype:</b> int64</label>"
            ]
          },
          "metadata": {},
          "execution_count": 6
        }
      ]
    },
    {
      "cell_type": "markdown",
      "source": [],
      "metadata": {
        "id": "ivkFd25-HHya"
      }
    },
    {
      "cell_type": "code",
      "source": [
        "programas = df_train['ESTU_PRGM_DEPARTAMENTO'].unique()\n",
        "programas\n",
        "\n",
        "def estu_program_departamento(df):\n",
        "\n",
        "  department_name = {\n",
        "      'BOGOTÁ': 'BOGOTA',\n",
        "      'NARIÑO': 'NARINO'\n",
        "  }\n",
        "\n",
        "  df['ESTU_PRGM_DEPARTAMENTO'] = df['ESTU_PRGM_DEPARTAMENTO'].str.strip()\n",
        "  df['ESTU_PRGM_DEPARTAMENTO'] = df['ESTU_PRGM_DEPARTAMENTO'].replace(department_name)\n"
      ],
      "metadata": {
        "id": "8gj0xjqwHbfW"
      },
      "execution_count": null,
      "outputs": []
    },
    {
      "cell_type": "code",
      "source": [
        "estrato = df_train['FAMI_ESTRATOVIVIENDA'].unique()\n",
        "estrato\n",
        "\n",
        "def fami_estrato(df):\n",
        "\n",
        "  #Ej: Moda = Estrato 2\n",
        "  moda = df['FAMI_ESTRATOVIVIENDA'].mode()[0]\n",
        "\n",
        "  def fillna(row):\n",
        "    if pd.isna(row):\n",
        "      return moda\n",
        "    return row\n",
        "  df['FAMI_ESTRATOVIVIENDA'] = df['FAMI_ESTRATOVIVIENDA'].apply(fillna)"
      ],
      "metadata": {
        "id": "0zFe6zzqOEgz"
      },
      "execution_count": null,
      "outputs": []
    },
    {
      "cell_type": "code",
      "source": [
        "df_train['FAMI_ESTRATOVIVIENDA'].mode()[0]"
      ],
      "metadata": {
        "colab": {
          "base_uri": "https://localhost:8080/",
          "height": 35
        },
        "id": "35Bd3g6cPMsq",
        "outputId": "07d1fb0e-3479-454a-e53a-95852869858d"
      },
      "execution_count": null,
      "outputs": [
        {
          "output_type": "execute_result",
          "data": {
            "text/plain": [
              "'Estrato 2'"
            ],
            "application/vnd.google.colaboratory.intrinsic+json": {
              "type": "string"
            }
          },
          "metadata": {},
          "execution_count": 9
        }
      ]
    },
    {
      "cell_type": "code",
      "source": [
        "df_train['FAMI_TIENEINTERNET'].unique() #Sale por probabilidad"
      ],
      "metadata": {
        "colab": {
          "base_uri": "https://localhost:8080/"
        },
        "id": "uqXLR9NJPlDH",
        "outputId": "9a8c5df5-db0d-4686-8960-7ddb7ccbcf61"
      },
      "execution_count": null,
      "outputs": [
        {
          "output_type": "execute_result",
          "data": {
            "text/plain": [
              "array(['Si', 'No', nan], dtype=object)"
            ]
          },
          "metadata": {},
          "execution_count": 10
        }
      ]
    },
    {
      "cell_type": "code",
      "source": [
        "df_train['FAMI_EDUCACIONPADRE'].unique()"
      ],
      "metadata": {
        "colab": {
          "base_uri": "https://localhost:8080/"
        },
        "id": "4GSV0oYRRWkB",
        "outputId": "ef910984-cc74-4147-ef8d-ef3b4c9b72e0"
      },
      "execution_count": null,
      "outputs": [
        {
          "output_type": "execute_result",
          "data": {
            "text/plain": [
              "array(['Técnica o tecnológica incompleta',\n",
              "       'Técnica o tecnológica completa',\n",
              "       'Secundaria (Bachillerato) completa', 'No sabe',\n",
              "       'Primaria completa', 'Educación profesional completa',\n",
              "       'Educación profesional incompleta', 'Primaria incompleta',\n",
              "       'Postgrado', nan, 'Secundaria (Bachillerato) incompleta',\n",
              "       'Ninguno', 'No Aplica'], dtype=object)"
            ]
          },
          "metadata": {},
          "execution_count": 11
        }
      ]
    },
    {
      "cell_type": "code",
      "source": [
        "df_train['FAMI_EDUCACIONPADRE'].unique() #Hay nan\n",
        "\n",
        "def fami_educacion_padre(df):\n",
        "\n",
        "  moda = df['FAMI_EDUCACIONPADRE'].mode()[0]\n",
        "\n",
        "  def fillna(row):\n",
        "    if pd.isna(row):\n",
        "      return moda\n",
        "    return row\n",
        "  df['FAMI_EDUCACIONPADRE'] = df['FAMI_EDUCACIONPADRE'].apply(fillna)"
      ],
      "metadata": {
        "id": "2gjlwukfRlTQ"
      },
      "execution_count": null,
      "outputs": []
    },
    {
      "cell_type": "code",
      "source": [
        "df_train['FAMI_TIENELAVADORA'].unique() #Hay nan\n",
        "\n",
        "def fami_tienelavadora(df):\n",
        "\n",
        "  percent_si = np.round(df['FAMI_TIENELAVADORA'].value_counts(normalize=True).get('Si', 0), 4)\n",
        "\n",
        "  def fillna(row):\n",
        "    estrato = row['FAMI_ESTRATOVIVIENDA']\n",
        "    if pd.isna(row['FAMI_TIENELAVADORA']):\n",
        "      if ((estrato != 'Sin estrato') or (estrato != 'Estrato 1') or (estrato != 'Estrato 2')):\n",
        "          return 'Si'\n",
        "      elif random.random() <= percent_si:\n",
        "          return 'Si'\n",
        "      else:\n",
        "          return 'No'\n",
        "    else:\n",
        "      return row['FAMI_TIENELAVADORA']\n",
        "  df['FAMI_TIENELAVADORA'] = df.apply(fillna, axis=1)"
      ],
      "metadata": {
        "id": "VnapZxtfR59X"
      },
      "execution_count": null,
      "outputs": []
    },
    {
      "cell_type": "code",
      "source": [
        "percent_si = np.round(df_train['FAMI_TIENELAVADORA'].value_counts(normalize=True).get('Si', 0), 4)\n",
        "percent_si"
      ],
      "metadata": {
        "colab": {
          "base_uri": "https://localhost:8080/"
        },
        "id": "dQRJCWQjTXTU",
        "outputId": "41200b76-146b-4c5f-c1d6-594a8d61c24b"
      },
      "execution_count": null,
      "outputs": [
        {
          "output_type": "execute_result",
          "data": {
            "text/plain": [
              "np.float64(0.8631)"
            ]
          },
          "metadata": {},
          "execution_count": 14
        }
      ]
    },
    {
      "cell_type": "code",
      "source": [
        "df_train['FAMI_TIENEINTERNET'].unique()  # Hay nan\n",
        "\n",
        "def fami_tieneinternet(df):\n",
        "    percent_si = np.round(df['FAMI_TIENEINTERNET'].value_counts(normalize=True).get('Si', 0), 4)\n",
        "\n",
        "    def fillna(row):\n",
        "        estrato = row['FAMI_ESTRATOVIVIENDA']\n",
        "        if pd.isna(row['FAMI_TIENEINTERNET']):\n",
        "            if ((estrato != 'Sin estrato') or (estrato != 'Estrato 1') or (estrato != 'Estrato 2')):\n",
        "                return 'Si'\n",
        "            elif random.random() <= percent_si:\n",
        "                return 'Si'\n",
        "            else:\n",
        "                return 'No'\n",
        "        else:\n",
        "            return row['FAMI_TIENEINTERNET']\n",
        "\n",
        "    df['FAMI_TIENEINTERNET'] = df.apply(fillna, axis=1)\n"
      ],
      "metadata": {
        "id": "SbXZTtQPfAw-"
      },
      "execution_count": null,
      "outputs": []
    },
    {
      "cell_type": "code",
      "source": [
        "percent_si = np.round(df_train['FAMI_TIENEINTERNET'].value_counts(normalize=True).get('Si', 0), 4)\n",
        "percent_si"
      ],
      "metadata": {
        "colab": {
          "base_uri": "https://localhost:8080/"
        },
        "id": "CI5wtrJMfozG",
        "outputId": "48934350-896f-417e-ecec-2fa239b7dc03"
      },
      "execution_count": null,
      "outputs": [
        {
          "output_type": "execute_result",
          "data": {
            "text/plain": [
              "np.float64(0.8898)"
            ]
          },
          "metadata": {},
          "execution_count": 25
        }
      ]
    },
    {
      "cell_type": "code",
      "source": [
        "df_train['FAMI_TIENEAUTOMOVIL'].unique()  # Hay nan\n",
        "\n",
        "def fami_tieneautomovil(df):\n",
        "    percent_si = np.round(df['FAMI_TIENEAUTOMOVIL'].value_counts(normalize=True).get('Si', 0), 4)\n",
        "\n",
        "    def fillna(row):\n",
        "        estrato = row['FAMI_ESTRATOVIVIENDA']\n",
        "        if pd.isna(row['FAMI_TIENEAUTOMOVIL']):\n",
        "            if ((estrato != 'Sin estrato') or (estrato != 'Estrato 1') or (estrato != 'Estrato 2')):\n",
        "                return 'Si'\n",
        "            elif random.random() <= percent_si:\n",
        "                return 'Si'\n",
        "            else:\n",
        "                return 'No'\n",
        "        else:\n",
        "            return row['FAMI_TIENEAUTOMOVIL']\n",
        "\n",
        "    df['FAMI_TIENEAUTOMOVIL'] = df.apply(fillna, axis=1)\n"
      ],
      "metadata": {
        "id": "3D2APq6gfEm5"
      },
      "execution_count": null,
      "outputs": []
    },
    {
      "cell_type": "code",
      "source": [
        "percent_si = np.round(df_train['FAMI_TIENEAUTOMOVIL'].value_counts(normalize=True).get('Si', 0), 4)\n",
        "percent_si"
      ],
      "metadata": {
        "colab": {
          "base_uri": "https://localhost:8080/"
        },
        "id": "wcGGrFsvfp-x",
        "outputId": "ac784fdb-a470-46a7-cc7f-a951aad39523"
      },
      "execution_count": null,
      "outputs": [
        {
          "output_type": "execute_result",
          "data": {
            "text/plain": [
              "np.float64(0.3641)"
            ]
          },
          "metadata": {},
          "execution_count": 27
        }
      ]
    },
    {
      "cell_type": "code",
      "source": [
        "df_train['ESTU_PRIVADO_LIBERTAD'].unique() #Se deja quieto"
      ],
      "metadata": {
        "colab": {
          "base_uri": "https://localhost:8080/"
        },
        "id": "1Cpb4T6HUDHT",
        "outputId": "a42b7bc8-67ba-46e2-9e14-0dbfa4930b22"
      },
      "execution_count": null,
      "outputs": [
        {
          "output_type": "execute_result",
          "data": {
            "text/plain": [
              "array(['N', 'S'], dtype=object)"
            ]
          },
          "metadata": {},
          "execution_count": 28
        }
      ]
    },
    {
      "cell_type": "code",
      "source": [
        "df_train['ESTU_PAGOMATRICULAPROPIO'].unique()"
      ],
      "metadata": {
        "colab": {
          "base_uri": "https://localhost:8080/"
        },
        "id": "DXn0Idy8V2ml",
        "outputId": "db1d98c6-2f36-4287-8321-f78dee023b42"
      },
      "execution_count": null,
      "outputs": [
        {
          "output_type": "execute_result",
          "data": {
            "text/plain": [
              "array(['No', 'Si', nan], dtype=object)"
            ]
          },
          "metadata": {},
          "execution_count": 29
        }
      ]
    },
    {
      "cell_type": "code",
      "source": [
        "def estu_pagamatricula(df):\n",
        "\n",
        "  moda = df['ESTU_PAGOMATRICULAPROPIO'].mode()[0]\n",
        "\n",
        "  def fillna(row):\n",
        "    if pd.isna(row):\n",
        "      return moda\n",
        "    return row\n",
        "  df['ESTU_PAGOMATRICULAPROPIO'] = df['ESTU_PAGOMATRICULAPROPIO'].apply(fillna)"
      ],
      "metadata": {
        "id": "KdliorW4WEyF"
      },
      "execution_count": null,
      "outputs": []
    },
    {
      "cell_type": "code",
      "source": [
        "df_train['FAMI_TIENECOMPUTADOR'].unique() #Hay nan\n",
        "\n",
        "def fami_tienecomputador(df):\n",
        "\n",
        "  percent_si = np.round(df['FAMI_TIENECOMPUTADOR'].value_counts(normalize=True).get('Si', 0), 4)\n",
        "\n",
        "  def fillna(row):\n",
        "    estrato = row['FAMI_ESTRATOVIVIENDA']\n",
        "    if pd.isna(row['FAMI_TIENECOMPUTADOR']):\n",
        "      if ((estrato != 'Sin estrato') or (estrato != 'Estrato 1') or (estrato != 'Estrato 2')):\n",
        "          return 'Si'\n",
        "      elif random.random() <= percent_si:\n",
        "          return 'Si'\n",
        "      else:\n",
        "          return 'No'\n",
        "    else:\n",
        "      return row['FAMI_TIENECOMPUTADOR']\n",
        "  df['FAMI_TIENECOMPUTADOR'] = df.apply(fillna, axis=1)"
      ],
      "metadata": {
        "id": "h8rEGnYnWSRn"
      },
      "execution_count": null,
      "outputs": []
    },
    {
      "cell_type": "code",
      "source": [
        "df_train['FAMI_TIENEINTERNET.1'].unique() #? No es lo mismo que FAMI_TIENEINTERNET?"
      ],
      "metadata": {
        "colab": {
          "base_uri": "https://localhost:8080/"
        },
        "id": "yxYj6z1iWpYc",
        "outputId": "d380fe1b-49fa-4c55-94b4-621868448416"
      },
      "execution_count": null,
      "outputs": [
        {
          "output_type": "execute_result",
          "data": {
            "text/plain": [
              "array(['Si', 'No', nan], dtype=object)"
            ]
          },
          "metadata": {},
          "execution_count": 32
        }
      ]
    },
    {
      "cell_type": "code",
      "source": [],
      "metadata": {
        "colab": {
          "base_uri": "https://localhost:8080/"
        },
        "id": "9_H8f9-wWZGw",
        "outputId": "d714f5af-1277-4ea9-90ec-110721b7ad7f"
      },
      "execution_count": null,
      "outputs": [
        {
          "output_type": "stream",
          "name": "stdout",
          "text": [
            "False\n"
          ]
        }
      ]
    },
    {
      "cell_type": "code",
      "source": [
        "df_train['FAMI_EDUCACIONMADRE'].unique()"
      ],
      "metadata": {
        "colab": {
          "base_uri": "https://localhost:8080/"
        },
        "id": "4UqIEzlzW2gD",
        "outputId": "8912d0d8-f931-4ca1-e156-84bd2e6dcf05"
      },
      "execution_count": null,
      "outputs": [
        {
          "output_type": "execute_result",
          "data": {
            "text/plain": [
              "array(['Postgrado', 'Técnica o tecnológica incompleta',\n",
              "       'Secundaria (Bachillerato) completa', 'Primaria completa',\n",
              "       'Técnica o tecnológica completa',\n",
              "       'Secundaria (Bachillerato) incompleta',\n",
              "       'Educación profesional incompleta',\n",
              "       'Educación profesional completa', 'Primaria incompleta', nan,\n",
              "       'Ninguno', 'No Aplica', 'No sabe'], dtype=object)"
            ]
          },
          "metadata": {},
          "execution_count": 33
        }
      ]
    },
    {
      "cell_type": "code",
      "source": [
        "def fami_educacion_madre(df):\n",
        "\n",
        "  moda = df['FAMI_EDUCACIONMADRE'].mode()[0]\n",
        "\n",
        "  def fillna(row):\n",
        "    if pd.isna(row):\n",
        "      return moda\n",
        "    return row\n",
        "  df['FAMI_EDUCACIONMADRE'] = df['FAMI_EDUCACIONMADRE'].apply(fillna)"
      ],
      "metadata": {
        "id": "VVokbuvaXL1z"
      },
      "execution_count": null,
      "outputs": []
    },
    {
      "cell_type": "code",
      "source": [
        "df_train['RENDIMIENTO_GLOBAL'].unique()"
      ],
      "metadata": {
        "colab": {
          "base_uri": "https://localhost:8080/"
        },
        "id": "xjaZhcljXX6i",
        "outputId": "7c8cd8a5-8cd3-4148-a642-7da1046b225b"
      },
      "execution_count": null,
      "outputs": [
        {
          "output_type": "execute_result",
          "data": {
            "text/plain": [
              "array(['medio-alto', 'bajo', 'alto', 'medio-bajo'], dtype=object)"
            ]
          },
          "metadata": {},
          "execution_count": 35
        }
      ]
    },
    {
      "cell_type": "code",
      "source": [
        "def rendimiento(df):\n",
        "\n",
        "  rendimiento_replace = {\n",
        "      'bajo': 0,\n",
        "      'medio-bajo': 1,\n",
        "      'medio-alto': 2,\n",
        "      'alto': 3\n",
        "  }\n",
        "\n",
        "  df['RENDIMIENTO_GLOBAL'] = df['RENDIMIENTO_GLOBAL'].replace(rendimiento_replace)\n"
      ],
      "metadata": {
        "id": "uhEIXewkXhEi"
      },
      "execution_count": null,
      "outputs": []
    },
    {
      "cell_type": "code",
      "source": [
        "def limpiar_dataset_completo(df):\n",
        "    estu_program_normalizado(df)\n",
        "    estu_program_departamento(df)\n",
        "    fami_estrato(df)\n",
        "    fami_educacion_padre(df)\n",
        "    fami_educacion_madre(df)\n",
        "    fami_tienelavadora(df)\n",
        "    fami_tieneinternet(df)\n",
        "    fami_tieneautomovil(df)\n",
        "    fami_tienecomputador(df)\n",
        "    estu_pagamatricula(df)\n",
        "    rendimiento(df)\n",
        "\n",
        "    return df\n"
      ],
      "metadata": {
        "id": "DJrM0OFdyhu6"
      },
      "execution_count": null,
      "outputs": []
    },
    {
      "cell_type": "code",
      "source": [
        "df_train = pd.read_csv('train.csv')\n",
        "\n",
        "df_train_limpio = limpiar_dataset_completo(df_train)\n",
        "\n",
        "df_train_limpio.to_csv('train_limpio.csv', index=False)\n"
      ],
      "metadata": {
        "colab": {
          "base_uri": "https://localhost:8080/"
        },
        "id": "BoqsRFAxyvb2",
        "outputId": "3f380f77-1872-47e5-ed0c-4ac9df7454b8"
      },
      "execution_count": null,
      "outputs": [
        {
          "output_type": "stream",
          "name": "stderr",
          "text": [
            "<ipython-input-36-c93494fdc1f7>:10: FutureWarning: Downcasting behavior in `replace` is deprecated and will be removed in a future version. To retain the old behavior, explicitly call `result.infer_objects(copy=False)`. To opt-in to the future behavior, set `pd.set_option('future.no_silent_downcasting', True)`\n",
            "  df['RENDIMIENTO_GLOBAL'] = df['RENDIMIENTO_GLOBAL'].replace(rendimiento_replace)\n"
          ]
        }
      ]
    }
  ]
}