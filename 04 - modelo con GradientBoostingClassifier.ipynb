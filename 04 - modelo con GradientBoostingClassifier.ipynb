{
 "cells": [
  {
   "cell_type": "code",
   "metadata": {
    "id": "TOhPyJYaT83W"
   },
   "source": [
    "# Importa librerías básicas para manejo de datos y operaciones\n",
    "\n",
    "import numpy as np\n",
    "import pandas as pd\n",
    "import os\n",
    "import random"
   ],
   "outputs": [],
   "execution_count": null
  },
  {
   "cell_type": "code",
   "metadata": {
    "colab": {
     "base_uri": "https://localhost:8080/"
    },
    "id": "1DtKzcOyElWJ",
    "outputId": "61fcbadf-e038-4ffe-d34b-ab0cc5e7be49"
   },
   "source": [
    "# Configura el entorno para Kaggle y descarga el dataset de la competencia\n",
    "os.environ['KAGGLE_CONFIG_DIR'] = '.'\n",
    "!kaggle competitions download -c udea-ai-4-eng-20251-pruebas-saber-pro-colombia"
   ],
   "outputs": [],
   "execution_count": null
  },
  {
   "cell_type": "code",
   "metadata": {
    "colab": {
     "base_uri": "https://localhost:8080/"
    },
    "id": "IGHRicwaFd8v",
    "outputId": "7509e250-a838-40d2-beaa-98abf1165a34"
   },
   "source": [
    "# Descomprime el archivo descargado del dataset\n",
    "!unzip udea-ai-4-eng-20251-pruebas-saber-pro-colombia.zip"
   ],
   "outputs": [],
   "execution_count": null
  },
  {
   "cell_type": "code",
   "metadata": {
    "colab": {
     "base_uri": "https://localhost:8080/",
     "height": 342
    },
    "id": "01plDfAwD4Zz",
    "outputId": "2055cf3e-15e7-4058-8cc5-f7348d5b3a72"
   },
   "source": [
    "#  Carga los archivos CSV de train y test en dataframes de pandas\n",
    "df_train = pd.read_csv('train.csv')\n",
    "df_test = pd.read_csv('test.csv')\n",
    "df_train.head()"
   ],
   "outputs": [],
   "execution_count": null
  },
  {
   "cell_type": "code",
   "metadata": {
    "colab": {
     "base_uri": "https://localhost:8080/"
    },
    "id": "NyrH4HXCEN9j",
    "outputId": "ac013e34-be55-4c0c-a186-00cba70931b7"
   },
   "source": [
    "#  Muestra las columnas del dataframe de entrenamiento\n",
    "df_train.columns"
   ],
   "outputs": [],
   "execution_count": null
  },
  {
   "cell_type": "code",
   "metadata": {
    "colab": {
     "base_uri": "https://localhost:8080/"
    },
    "id": "dP1P_cFCc_Wt",
    "outputId": "661d091c-4b71-4eac-8c4f-7a8553602e5a"
   },
   "source": [
    "# Instala la librería unidecode para normalización de texto\n",
    "!pip install unidecode"
   ],
   "outputs": [],
   "execution_count": null
  },
  {
   "cell_type": "code",
   "metadata": {
    "id": "LXt76Bx5bCOe"
   },
   "source": [
    " # Normaliza el nombre del programa académico eliminando tildes y poniendo en mayúsculas\n",
    "import unidecode\n",
    "def estu_program_normalizado(df):\n",
    "\n",
    "  def fillna(row):\n",
    "    if pd.isna(row):\n",
    "      return row\n",
    "    row = row.upper().strip()\n",
    "    row = unidecode.unidecode(row)\n",
    "    row = ' '.join(row.split())\n",
    "    return row\n",
    "\n",
    "  df['ESTU_PRGM_ACADEMICO'] = df['ESTU_PRGM_ACADEMICO'].apply(fillna)\n"
   ],
   "outputs": [],
   "execution_count": null
  },
  {
   "cell_type": "code",
   "metadata": {
    "colab": {
     "base_uri": "https://localhost:8080/"
    },
    "id": "2qgMBLADdjkP",
    "outputId": "574b7243-6139-4543-be46-9aa3804d328e"
   },
   "source": [
    "#  Muestra los valores únicos de la columna de programa académico\n",
    "df_train['ESTU_PRGM_ACADEMICO'].unique()"
   ],
   "outputs": [],
   "execution_count": null
  },
  {
   "cell_type": "code",
   "metadata": {
    "colab": {
     "base_uri": "https://localhost:8080/",
     "height": 429
    },
    "id": "WDSDKuGLF5oZ",
    "outputId": "66ad8f08-f49f-491c-ff50-823ac5e4d17f"
   },
   "source": [
    "# Muestra la cantidad de valores nulos por columna (solo las que tienen nulos)\n",
    "p = df_train.isna().sum()\n",
    "p[p!=0]"
   ],
   "outputs": [],
   "execution_count": null
  },
  {
   "cell_type": "markdown",
   "metadata": {
    "id": "ivkFd25-HHya"
   },
   "source": []
  },
  {
   "cell_type": "code",
   "metadata": {
    "id": "8gj0xjqwHbfW"
   },
   "source": [
    "# Muestra los valores únicos del departamento del programa y define función de normalización\n",
    "programas = df_train['ESTU_PRGM_DEPARTAMENTO'].unique()\n",
    "programas\n",
    "\n",
    "def estu_program_departamento(df):\n",
    "\n",
    "  department_name = {\n",
    "      'BOGOTÁ': 'BOGOTA',\n",
    "      'NARIÑO': 'NARINO'\n",
    "  }\n",
    "\n",
    "  df['ESTU_PRGM_DEPARTAMENTO'] = df['ESTU_PRGM_DEPARTAMENTO'].str.strip()\n",
    "  df['ESTU_PRGM_DEPARTAMENTO'] = df['ESTU_PRGM_DEPARTAMENTO'].replace(department_name)\n"
   ],
   "outputs": [],
   "execution_count": null
  },
  {
   "cell_type": "code",
   "metadata": {
    "id": "0zFe6zzqOEgz"
   },
   "source": [
    "# Muestra los valores únicos de estrato y define función para imputar nulos con la moda\n",
    "estrato = df_train['FAMI_ESTRATOVIVIENDA'].unique()\n",
    "estrato\n",
    "\n",
    "def fami_estrato(df):\n",
    "\n",
    "  #Ej: Moda = Estrato 2\n",
    "  moda = df['FAMI_ESTRATOVIVIENDA'].mode()[0]\n",
    "\n",
    "  def fillna(row):\n",
    "    if pd.isna(row):\n",
    "      return moda\n",
    "    return row\n",
    "  df['FAMI_ESTRATOVIVIENDA'] = df['FAMI_ESTRATOVIVIENDA'].apply(fillna)"
   ],
   "outputs": [],
   "execution_count": null
  },
  {
   "cell_type": "code",
   "metadata": {
    "colab": {
     "base_uri": "https://localhost:8080/",
     "height": 458
    },
    "id": "6koiTPx3AKNb",
    "outputId": "c438b805-789c-48f6-c0a5-5844349e8bbb"
   },
   "source": [
    "#  Muestra la columna de horas semanales de trabajo\n",
    "df_train['ESTU_HORASSEMANATRABAJA']"
   ],
   "outputs": [],
   "execution_count": null
  },
  {
   "cell_type": "code",
   "metadata": {
    "id": "1d9N6HEF_wk9"
   },
   "source": [
    "#  Imputa valores nulos en horas semanales de trabajo con la moda\n",
    "def estu_hora_trabaja(df):\n",
    "\n",
    "  moda = df['ESTU_HORASSEMANATRABAJA'].mode()[0]\n",
    "\n",
    "  def fillna(row):\n",
    "    if pd.isna(row):\n",
    "      return moda\n",
    "    return row\n",
    "  df['ESTU_HORASSEMANATRABAJA'] = df['ESTU_HORASSEMANATRABAJA'].apply(fillna)"
   ],
   "outputs": [],
   "execution_count": null
  },
  {
   "cell_type": "code",
   "metadata": {
    "id": "uZDZNQT5BjBX"
   },
   "source": [
    "#  Imputa valores nulos en valor de matrícula con la moda\n",
    "def matricula_valor(df):\n",
    "\n",
    "  moda = df['ESTU_VALORMATRICULAUNIVERSIDAD'].mode()[0]\n",
    "\n",
    "  def fillna(row):\n",
    "    if pd.isna(row):\n",
    "      return moda\n",
    "    return row\n",
    "  df['ESTU_VALORMATRICULAUNIVERSIDAD'] = df['ESTU_VALORMATRICULAUNIVERSIDAD'].apply(fillna)"
   ],
   "outputs": [],
   "execution_count": null
  },
  {
   "cell_type": "code",
   "metadata": {
    "colab": {
     "base_uri": "https://localhost:8080/",
     "height": 35
    },
    "id": "35Bd3g6cPMsq",
    "outputId": "76eacf29-2632-4274-d8aa-95678667a54c"
   },
   "source": [
    "#  Muestra la moda de estrato de vivienda\n",
    "df_train['FAMI_ESTRATOVIVIENDA'].mode()[0]"
   ],
   "outputs": [],
   "execution_count": null
  },
  {
   "cell_type": "code",
   "metadata": {
    "colab": {
     "base_uri": "https://localhost:8080/"
    },
    "id": "uqXLR9NJPlDH",
    "outputId": "2573d298-3177-4029-caca-434c21cc0b20"
   },
   "source": [
    "# Muestra los valores únicos de si tiene internet en casa\n",
    "\n",
    "df_train['FAMI_TIENEINTERNET'].unique() #Sale por probabilidad"
   ],
   "outputs": [],
   "execution_count": null
  },
  {
   "cell_type": "code",
   "metadata": {
    "colab": {
     "base_uri": "https://localhost:8080/"
    },
    "id": "4GSV0oYRRWkB",
    "outputId": "6bb7ab02-cef5-4c53-e7f5-75903e122070"
   },
   "source": [
    "# Muestra los valores únicos de educación del padre\n",
    "df_train['FAMI_EDUCACIONPADRE'].unique()"
   ],
   "outputs": [],
   "execution_count": null
  },
  {
   "cell_type": "code",
   "metadata": {
    "id": "2gjlwukfRlTQ"
   },
   "source": [
    "#  Muestra los valores únicos de educación del padre y define función para imputar nulos con la moda\n",
    "df_train['FAMI_EDUCACIONPADRE'].unique() #Hay nan\n",
    "\n",
    "def fami_educacion_padre(df):\n",
    "\n",
    "  moda = df['FAMI_EDUCACIONPADRE'].mode()[0]\n",
    "\n",
    "  def fillna(row):\n",
    "    if pd.isna(row):\n",
    "      return moda\n",
    "    return row\n",
    "  df['FAMI_EDUCACIONPADRE'] = df['FAMI_EDUCACIONPADRE'].apply(fillna)"
   ],
   "outputs": [],
   "execution_count": null
  },
  {
   "cell_type": "code",
   "metadata": {
    "id": "VnapZxtfR59X"
   },
   "source": [
    "#  Muestra los valores únicos de si tiene lavadora y define función para imputar nulos según estrato y probabilidad\n",
    "df_train['FAMI_TIENELAVADORA'].unique() #Hay nan\n",
    "\n",
    "def fami_tienelavadora(df):\n",
    "\n",
    "  percent_si = np.round(df['FAMI_TIENELAVADORA'].value_counts(normalize=True).get('Si', 0), 4)\n",
    "\n",
    "  def fillna(row):\n",
    "    estrato = row['FAMI_ESTRATOVIVIENDA']\n",
    "    if pd.isna(row['FAMI_TIENELAVADORA']):\n",
    "      if ((estrato != 'Sin estrato') or (estrato != 'Estrato 1') or (estrato != 'Estrato 2')):\n",
    "          return 'Si'\n",
    "      elif random.random() <= percent_si:\n",
    "          return 'Si'\n",
    "      else:\n",
    "          return 'No'\n",
    "    else:\n",
    "      return row['FAMI_TIENELAVADORA']\n",
    "  df['FAMI_TIENELAVADORA'] = df.apply(fillna, axis=1)"
   ],
   "outputs": [],
   "execution_count": null
  },
  {
   "cell_type": "code",
   "metadata": {
    "colab": {
     "base_uri": "https://localhost:8080/"
    },
    "id": "dQRJCWQjTXTU",
    "outputId": "ef116277-7830-4ae1-873f-14996c21ee46"
   },
   "source": [
    "#  Calcula el porcentaje de 'Si' en la columna de lavadora\n",
    "percent_si = np.round(df_train['FAMI_TIENELAVADORA'].value_counts(normalize=True).get('Si', 0), 4)\n",
    "percent_si"
   ],
   "outputs": [],
   "execution_count": null
  },
  {
   "cell_type": "code",
   "metadata": {
    "id": "SbXZTtQPfAw-"
   },
   "source": [
    "#  Muestra los valores únicos de si tiene internet y define función para imputar nulos según estrato y probabilidad\n",
    "df_train['FAMI_TIENEINTERNET'].unique()  # Hay nan\n",
    "\n",
    "def fami_tieneinternet(df):\n",
    "    percent_si = np.round(df['FAMI_TIENEINTERNET'].value_counts(normalize=True).get('Si', 0), 4)\n",
    "\n",
    "    def fillna(row):\n",
    "        estrato = row['FAMI_ESTRATOVIVIENDA']\n",
    "        if pd.isna(row['FAMI_TIENEINTERNET']):\n",
    "            if ((estrato != 'Sin estrato') or (estrato != 'Estrato 1') or (estrato != 'Estrato 2')):\n",
    "                return 'Si'\n",
    "            elif random.random() <= percent_si:\n",
    "                return 'Si'\n",
    "            else:\n",
    "                return 'No'\n",
    "        else:\n",
    "            return row['FAMI_TIENEINTERNET']\n",
    "\n",
    "    df['FAMI_TIENEINTERNET'] = df.apply(fillna, axis=1)\n"
   ],
   "outputs": [],
   "execution_count": null
  },
  {
   "cell_type": "code",
   "metadata": {
    "id": "UwO50eM2A6op"
   },
   "source": [
    "#  Muestra los valores únicos de si tiene internet (columna duplicada) y define función para imputar nulos\n",
    "df_train['FAMI_TIENEINTERNET.1'].unique()  # Hay nan\n",
    "\n",
    "def fami_tieneinternet_1(df):\n",
    "    percent_si = np.round(df['FAMI_TIENEINTERNET.1'].value_counts(normalize=True).get('Si', 0), 4)\n",
    "\n",
    "    def fillna(row):\n",
    "        estrato = row['FAMI_ESTRATOVIVIENDA']\n",
    "        if pd.isna(row['FAMI_TIENEINTERNET.1']):\n",
    "            if ((estrato != 'Sin estrato') or (estrato != 'Estrato 1') or (estrato != 'Estrato 2')):\n",
    "                return 'Si'\n",
    "            elif random.random() <= percent_si:\n",
    "                return 'Si'\n",
    "            else:\n",
    "                return 'No'\n",
    "        else:\n",
    "            return row['FAMI_TIENEINTERNET.1']\n",
    "\n",
    "    df['FAMI_TIENEINTERNET.1'] = df.apply(fillna, axis=1)\n"
   ],
   "outputs": [],
   "execution_count": null
  },
  {
   "cell_type": "code",
   "metadata": {
    "colab": {
     "base_uri": "https://localhost:8080/"
    },
    "id": "CI5wtrJMfozG",
    "outputId": "492e8304-c476-434e-8a8d-a52fb2a1f1ec"
   },
   "source": [
    "#  Calcula el porcentaje de 'Si' en la columna de internet\n",
    "percent_si = np.round(df_train['FAMI_TIENEINTERNET'].value_counts(normalize=True).get('Si', 0), 4)\n",
    "percent_si"
   ],
   "outputs": [],
   "execution_count": null
  },
  {
   "cell_type": "code",
   "metadata": {
    "id": "3D2APq6gfEm5"
   },
   "source": [
    "#  Muestra los valores únicos de si tiene automóvil y define función para imputar nulos según estrato y probabilidad\n",
    "df_train['FAMI_TIENEAUTOMOVIL'].unique()  # Hay nan\n",
    "\n",
    "def fami_tieneautomovil(df):\n",
    "    percent_si = np.round(df['FAMI_TIENEAUTOMOVIL'].value_counts(normalize=True).get('Si', 0), 4)\n",
    "\n",
    "    def fillna(row):\n",
    "        estrato = row['FAMI_ESTRATOVIVIENDA']\n",
    "        if pd.isna(row['FAMI_TIENEAUTOMOVIL']):\n",
    "            if ((estrato != 'Sin estrato') or (estrato != 'Estrato 1') or (estrato != 'Estrato 2')):\n",
    "                return 'Si'\n",
    "            elif random.random() <= percent_si:\n",
    "                return 'Si'\n",
    "            else:\n",
    "                return 'No'\n",
    "        else:\n",
    "            return row['FAMI_TIENEAUTOMOVIL']\n",
    "\n",
    "    df['FAMI_TIENEAUTOMOVIL'] = df.apply(fillna, axis=1)\n"
   ],
   "outputs": [],
   "execution_count": null
  },
  {
   "cell_type": "code",
   "metadata": {
    "colab": {
     "base_uri": "https://localhost:8080/"
    },
    "id": "wcGGrFsvfp-x",
    "outputId": "164889fb-20e7-40b8-a5d2-c7ba6390215d"
   },
   "source": [
    "#  Calcula el porcentaje de 'Si' en la columna de automóvil\n",
    "percent_si = np.round(df_train['FAMI_TIENEAUTOMOVIL'].value_counts(normalize=True).get('Si', 0), 4)\n",
    "percent_si"
   ],
   "outputs": [],
   "execution_count": null
  },
  {
   "cell_type": "code",
   "metadata": {
    "colab": {
     "base_uri": "https://localhost:8080/"
    },
    "id": "1Cpb4T6HUDHT",
    "outputId": "a00fe39e-ae11-49a4-b382-0b2951267821"
   },
   "source": [
    "#  Muestra los valores únicos\n",
    "df_train['ESTU_PRIVADO_LIBERTAD'].unique()"
   ],
   "outputs": [],
   "execution_count": null
  },
  {
   "cell_type": "code",
   "metadata": {
    "colab": {
     "base_uri": "https://localhost:8080/"
    },
    "id": "DXn0Idy8V2ml",
    "outputId": "51dab0b2-e352-4b65-89b8-3cda136fece7"
   },
   "source": [
    "#  Muestra los valores únicos de si paga matrícula propia\n",
    "df_train['ESTU_PAGOMATRICULAPROPIO'].unique()"
   ],
   "outputs": [],
   "execution_count": null
  },
  {
   "cell_type": "code",
   "metadata": {
    "id": "KdliorW4WEyF"
   },
   "source": [
    "# Celda: Imputa valores nulos en pago de matrícula propia con la moda\n",
    "def estu_pagamatricula(df):\n",
    "\n",
    "  moda = df['ESTU_PAGOMATRICULAPROPIO'].mode()[0]\n",
    "\n",
    "  def fillna(row):\n",
    "    if pd.isna(row):\n",
    "      return moda\n",
    "    return row\n",
    "  df['ESTU_PAGOMATRICULAPROPIO'] = df['ESTU_PAGOMATRICULAPROPIO'].apply(fillna)"
   ],
   "outputs": [],
   "execution_count": null
  },
  {
   "cell_type": "code",
   "metadata": {
    "id": "h8rEGnYnWSRn"
   },
   "source": [
    "#  Muestra los valores únicos de si tiene computador y define función para imputar nulos según estrato y probabilidad\n",
    "df_train['FAMI_TIENECOMPUTADOR'].unique() #Hay nan\n",
    "\n",
    "def fami_tienecomputador(df):\n",
    "\n",
    "  percent_si = np.round(df['FAMI_TIENECOMPUTADOR'].value_counts(normalize=True).get('Si', 0), 4)\n",
    "\n",
    "  def fillna(row):\n",
    "    estrato = row['FAMI_ESTRATOVIVIENDA']\n",
    "    if pd.isna(row['FAMI_TIENECOMPUTADOR']):\n",
    "      if ((estrato != 'Sin estrato') or (estrato != 'Estrato 1') or (estrato != 'Estrato 2')):\n",
    "          return 'Si'\n",
    "      elif random.random() <= percent_si:\n",
    "          return 'Si'\n",
    "      else:\n",
    "          return 'No'\n",
    "    else:\n",
    "      return row['FAMI_TIENECOMPUTADOR']\n",
    "  df['FAMI_TIENECOMPUTADOR'] = df.apply(fillna, axis=1)"
   ],
   "outputs": [],
   "execution_count": null
  },
  {
   "cell_type": "code",
   "metadata": {
    "colab": {
     "base_uri": "https://localhost:8080/"
    },
    "id": "yxYj6z1iWpYc",
    "outputId": "4b27f2b5-9b66-4d26-9205-da8eb088f645"
   },
   "source": [
    "#  Muestra los valores únicos de la columna FAMI_TIENEINTERNET.1\n",
    "df_train['FAMI_TIENEINTERNET.1'].unique() "
   ],
   "outputs": [],
   "execution_count": null
  },
  {
   "cell_type": "code",
   "metadata": {
    "colab": {
     "base_uri": "https://localhost:8080/"
    },
    "id": "4UqIEzlzW2gD",
    "outputId": "af635175-a1c6-4397-adab-ffaf5c8dbba6"
   },
   "source": [
    "#  Muestra los valores únicos de educación de la madre\n",
    "df_train['FAMI_EDUCACIONMADRE'].unique()"
   ],
   "outputs": [],
   "execution_count": null
  },
  {
   "cell_type": "code",
   "metadata": {
    "id": "VVokbuvaXL1z"
   },
   "source": [
    "#  Imputa valores nulos en educación de la madre con la moda\n",
    "def fami_educacion_madre(df):\n",
    "\n",
    "  moda = df['FAMI_EDUCACIONMADRE'].mode()[0]\n",
    "\n",
    "  def fillna(row):\n",
    "    if pd.isna(row):\n",
    "      return moda\n",
    "    return row\n",
    "  df['FAMI_EDUCACIONMADRE'] = df['FAMI_EDUCACIONMADRE'].apply(fillna)"
   ],
   "outputs": [],
   "execution_count": null
  },
  {
   "cell_type": "code",
   "metadata": {
    "colab": {
     "base_uri": "https://localhost:8080/"
    },
    "id": "xjaZhcljXX6i",
    "outputId": "f38239c1-8f48-4143-b2ff-0c66d48f3a80"
   },
   "source": [
    "#  Muestra los valores únicos de rendimiento global\n",
    "df_train['RENDIMIENTO_GLOBAL'].unique()"
   ],
   "outputs": [],
   "execution_count": null
  },
  {
   "cell_type": "code",
   "metadata": {
    "id": "uhEIXewkXhEi"
   },
   "source": [
    "#  Convierte los valores de rendimiento global a valores numéricos\n",
    "def rendimiento(df):\n",
    "\n",
    "  rendimiento_replace = {\n",
    "      'bajo': 0,\n",
    "      'medio-bajo': 1,\n",
    "      'medio-alto': 2,\n",
    "      'alto': 3\n",
    "  }\n",
    "\n",
    "  df['RENDIMIENTO_GLOBAL'] = df['RENDIMIENTO_GLOBAL'].replace(rendimiento_replace)\n"
   ],
   "outputs": [],
   "execution_count": null
  },
  {
   "cell_type": "code",
   "metadata": {
    "id": "DJrM0OFdyhu6"
   },
   "source": [
    "#  Aplica todas las funciones de limpieza y transformación al dataset\n",
    "def limpiar_dataset_completo(df, isrendimiento=False):\n",
    "\n",
    "    if not isrendimiento:\n",
    "      rendimiento(df)\n",
    "    estu_program_normalizado(df)\n",
    "    estu_program_departamento(df)\n",
    "    fami_estrato(df)\n",
    "    fami_educacion_padre(df)\n",
    "    fami_educacion_madre(df)\n",
    "    fami_tienelavadora(df)\n",
    "    fami_tieneinternet(df)\n",
    "    fami_tieneinternet_1(df)\n",
    "    fami_tieneautomovil(df)\n",
    "    fami_tienecomputador(df)\n",
    "    estu_pagamatricula(df)\n",
    "    estu_hora_trabaja(df)\n",
    "    matricula_valor(df)\n",
    "\n",
    "    return df\n"
   ],
   "outputs": [],
   "execution_count": null
  },
  {
   "cell_type": "code",
   "metadata": {
    "id": "q-vaeAZrWv0p"
   },
   "source": [
    "#  Limpia el dataset de entrenamiento\n",
    "df_train_limpio = limpiar_dataset_completo(df_train)"
   ],
   "outputs": [],
   "execution_count": null
  },
  {
   "metadata": {},
   "cell_type": "code",
   "source": [
    "#  Limpia el dataset de test (sin transformar rendimiento)\n",
    "df_test_limpio = limpiar_dataset_completo(df_test, isrendimiento=True)"
   ],
   "outputs": [],
   "execution_count": null
  },
  {
   "metadata": {},
   "cell_type": "code",
   "source": [
    "#  Elimina la columna FAMI_TIENEINTERNET.1 del test limpio\n",
    "df_test_limpio.drop(columns=['FAMI_TIENEINTERNET.1'], inplace=True, axis=1)"
   ],
   "outputs": [],
   "execution_count": null
  },
  {
   "metadata": {},
   "cell_type": "code",
   "source": [
    "# Convierte los valores numéricos de rendimiento global a texto\n",
    "def rendimiento_back(df):\n",
    "\n",
    "  rendimiento_replace = {\n",
    "      0: 'bajo',\n",
    "      1: 'medio-bajo',\n",
    "      2: 'medio-alto',\n",
    "      3: 'alto'\n",
    "  }\n",
    "\n",
    "  df['RENDIMIENTO_GLOBAL'] = df['RENDIMIENTO_GLOBAL'].replace(rendimiento_replace)\n"
   ],
   "outputs": [],
   "execution_count": null
  },
  {
   "metadata": {},
   "cell_type": "code",
   "source": [
    "from sklearn.model_selection import train_test_split, cross_val_score, StratifiedKFold\n",
    "from sklearn.preprocessing import LabelEncoder\n",
    "import lightgbm as lgb\n",
    "from sklearn.metrics import accuracy_score\n",
    "import pandas as pd\n",
    "import numpy as np\n",
    "\n",
    "# 1. PREPARAR DATOS\n",
    "data = df_train_limpio.copy()\n",
    "x = data.drop([\"RENDIMIENTO_GLOBAL\", \"ID\"], axis=1)\n",
    "y = data['RENDIMIENTO_GLOBAL']\n",
    "\n",
    "cat_cols = x.select_dtypes(include=['object']).columns.tolist()\n",
    "\n",
    "# 2. APLICAR LABEL ENCODING Y GUARDAR ENCODERS\n",
    "label_encoders = {}\n",
    "x_encoded = x.copy()\n",
    "\n",
    "for col in cat_cols:\n",
    "    le = LabelEncoder()\n",
    "    x_encoded[col] = x_encoded[col].astype(str)\n",
    "    x_encoded[col] = le.fit_transform(x_encoded[col])\n",
    "    label_encoders[col] = le  # GUARDAR el encoder\n",
    "\n",
    "# 3. SPLIT CON ESTRATIFICACIÓN\n",
    "x_train, x_val, y_train, y_val = train_test_split(\n",
    "    x_encoded, y, test_size=0.2, random_state=42, stratify=y\n",
    ")\n"
   ],
   "outputs": [],
   "execution_count": null
  },
  {
   "metadata": {},
   "cell_type": "code",
   "source": [
    "# Crea y entrena el modelo GradientBoostingClassifier con los parámetros optimizados\n",
    "\n",
    "from sklearn.ensemble import GradientBoostingClassifier\n",
    "\n",
    "model = GradientBoostingClassifier(\n",
    "    n_estimators=1000,\n",
    "    learning_rate=0.6,\n",
    "    max_depth=3,\n",
    "    random_state=42,\n",
    "    max_features='sqrt',\n",
    "    min_samples_leaf=15,\n",
    "    min_samples_split=10,\n",
    ")\n",
    "\n",
    "model.fit(x_train, y_train)"
   ],
   "outputs": [],
   "execution_count": null
  },
  {
   "metadata": {},
   "cell_type": "code",
   "source": [
    "# Realiza predicciones sobre el conjunto de validación y calcula su precisión\n",
    "predict_y = model.predict(x_val)\n",
    "acc = accuracy_score(y_val, predict_y)\n",
    "print(acc)"
   ],
   "outputs": [],
   "execution_count": null
  },
  {
   "metadata": {},
   "cell_type": "code",
   "source": [
    "test = df_test_limpio.copy()\n",
    "y = test['ID']\n",
    "test.drop(columns=['ID'], inplace=True, axis=1)\n",
    "\n",
    "for col in cat_cols:\n",
    "    if col in test.columns:\n",
    "        test[col] = test[col].astype(str)\n",
    "\n",
    "        # Manejar valores no vistos en entrenamiento\n",
    "        le = label_encoders[col]\n",
    "\n",
    "        def safe_transform(value):\n",
    "            try:\n",
    "                return le.transform([value])[0]\n",
    "            except ValueError:\n",
    "                # Si el valor no existe, usar el más frecuente del training\n",
    "                return le.transform([le.classes_[0]])[0]\n",
    "\n",
    "        test[col] = test[col].apply(safe_transform)\n",
    "\n",
    "predecir = model.predict(test)\n",
    "\n",
    "submit_df= pd.DataFrame({\n",
    "    'ID': y,\n",
    "    'RENDIMIENTO_GLOBAL': predecir\n",
    "})\n",
    "\n",
    "rendimiento_back(submit_df)"
   ],
   "outputs": [],
   "execution_count": null
  },
  {
   "metadata": {},
   "cell_type": "code",
   "source": "submit_df.to_csv('submission.csv', index=False)",
   "outputs": [],
   "execution_count": null
  }
 ],
 "metadata": {
  "colab": {
   "provenance": []
  },
  "kernelspec": {
   "display_name": "Python 3",
   "name": "python3"
  },
  "language_info": {
   "name": "python"
  }
 },
 "nbformat": 4,
 "nbformat_minor": 0
}
